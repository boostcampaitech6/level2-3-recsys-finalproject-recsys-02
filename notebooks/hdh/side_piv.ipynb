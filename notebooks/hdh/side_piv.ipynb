{
 "cells": [
  {
   "cell_type": "markdown",
   "id": "fdc7a666",
   "metadata": {},
   "source": [
    "## brand"
   ]
  },
  {
   "cell_type": "markdown",
   "id": "dcec977d",
   "metadata": {},
   "source": [
    "---"
   ]
  },
  {
   "cell_type": "code",
   "execution_count": null,
   "id": "ff57d896",
   "metadata": {},
   "outputs": [],
   "source": [
    "import os\n",
    "import pandas as pd\n",
    "import requests\n",
    "import json\n",
    "import warnings\n",
    "import sys\n",
    "sys.path.append('/Users/daeheehan/final/level2-3-recsys-finalproject-recsys-02/data_collection/notiAPI')\n",
    "\n",
    "from auth import NotiServerAuth\n",
    "from api import NotiServerRequest\n",
    "\n",
    "from dataclasses import dataclass, field\n",
    "from typing import Optional, List\n",
    "from urllib.parse import urlparse, parse_qs\n",
    "\n",
    "from pprint import pprint\n",
    "\n",
    "warnings.filterwarnings(action='ignore')"
   ]
  },
  {
   "cell_type": "code",
   "execution_count": null,
   "id": "c8aebd5c",
   "metadata": {},
   "outputs": [],
   "source": [
    "# 최근 10일치 piv 데이터\n",
    "\n",
    "df = pd.read_csv('/Users/daeheehan/final/level2-3-recsys-finalproject-recsys-02/data/df_interaction_unique.csv') \n",
    "len(df)"
   ]
  },
  {
   "cell_type": "code",
   "execution_count": null,
   "id": "405bc0e4",
   "metadata": {},
   "outputs": [],
   "source": [
    "df_test = df.head(20)"
   ]
  },
  {
   "cell_type": "code",
   "execution_count": null,
   "id": "59a52f25",
   "metadata": {},
   "outputs": [],
   "source": [
    "# 주어진 데이터프레임에서 아이템 ID를 추출\n",
    "item_ids = df_test['item'].tolist()\n",
    "\n",
    "# 각 아이템에 대한 정보를 저장할 빈 리스트를 생성합니다.\n",
    "brands = []\n",
    "\n",
    "# 각 아이템에 대한 정보를 조회합니다.\n",
    "# 브랜드 정보 조회후 브랜드 데이터가 조회되지 않는다면, title에서 brand를 가져옴\n",
    "for item_id in item_ids:\n",
    "    res = NotiServerRequest.product_info(ids=[], pivs=[item_id])\n",
    "    try :\n",
    "        brand = res.json().get('data', {}).get('products', [])[0]['details']['brand']\n",
    "    except KeyError:\n",
    "        try:\n",
    "            brand = res.json().get('data', {}).get('products', [])[0]['title'].split()[0]\n",
    "        except :\n",
    "            brand = 'unknown'\n",
    "    except:\n",
    "        brand = 'unknown'\n",
    "\n",
    "    brands.append(brand)\n",
    "\n",
    "# 브랜드 정보를 데이터프레임에 새로운 열로 추가합니다.\n",
    "df_test['brand'] = brands\n",
    "df_test"
   ]
  },
  {
   "cell_type": "markdown",
   "id": "054ca55f",
   "metadata": {},
   "source": [
    "---"
   ]
  },
  {
   "cell_type": "markdown",
   "id": "60e5ef5e",
   "metadata": {},
   "source": [
    "## cate\n",
    "\n",
    "- 키워드 기반 분류\n",
    "    - 특정 키워드나 패턴이 포함된 제품명을 해당 카테고리에 할당합니다. \n",
    "    - 예를 들어, \"TV\"나 \"UHD\"가 포함되어 있으면 \"TV\" 카테고리로, \"노트북\"이나 \"코어\"가 포함되어 있으면 \"노트북\" 카테고리로 분류할 수 있습니다.\n",
    "    - 키워드 리스트 생성 : 제품명에서 빈도수가 많이 나오는 애들 힌트를 얻어서 처리\n"
   ]
  },
  {
   "cell_type": "code",
   "execution_count": null,
   "id": "bcbb6beb",
   "metadata": {},
   "outputs": [],
   "source": [
    "cate = [\n",
    "    \"노트북\",     # laptop\n",
    "    \"태블릿\",     # tablet\n",
    "    \"스마트폰\",   # smartphone\n",
    "    \"스마트워치\", # smartwatch\n",
    "    \"모니터\",     # monitor\n",
    "    \"TV\",         # tv\n",
    "    \"스피커\",     # speaker\n",
    "    \"헤드폰\",     # headphone\n",
    "    \"이어폰\",     # earphone\n",
    "    \"게이밍\",      # gaming\n",
    "    \"데스크탑\",    # desktop\n",
    "    \"키보드\",     # keyboard\n",
    "    \"마우스\",     # mouse\n",
    "    \"로봇청소기\",  # robovac\n",
    "    \"냉장고\",     # fridge\n",
    "    \"세탁기\",     # laundry\n",
    "    \"킥보드\",     # scooter\n",
    "    \"저장장치\",   # storage\n",
    "    \"청소기\",     # cleaner\n",
    "    \"가전/디지털\" # digital\n",
    "]\n"
   ]
  },
  {
   "cell_type": "code",
   "execution_count": null,
   "id": "36367f1a",
   "metadata": {},
   "outputs": [],
   "source": [
    "# 주어진 데이터프레임에서 아이템 ID를 추출\n",
    "item_ids = df_test['item'].tolist()\n",
    "\n",
    "# 각 아이템에 대한 정보를 저장할 빈 리스트를 생성합니다.\n",
    "cates = []\n",
    "\n",
    "# 각 아이템에 대한 정보를 조회합니다.\n",
    "for item_id in item_ids:\n",
    "    try:\n",
    "        res = NotiServerRequest.product_info(ids=[], pivs=[item_id])\n",
    "        # 'details'에 'brand' 정보가 있는지 확인하고, 없는 경우 'title' 정보로 대체합니다.\n",
    "        cate = res.json().get('data', {}).get('products', [])[0]['details']['category_small']\n",
    "    except KeyError:\n",
    "        try :\n",
    "            cate = res.json().get('data', {}).get('products', [])[0]['title'].split(\",\")[0]\n",
    "        except :\n",
    "            cate = 'unknown'\n",
    "    except :\n",
    "        cate = 'unknown'\n",
    "    \n",
    "    cates.append(cate)\n",
    "\n",
    "        \n",
    "# 브랜드 정보를 데이터프레임에 새로운 열로 추가합니다.\n",
    "df_test['cate'] = cates\n",
    "df_test"
   ]
  },
  {
   "cell_type": "code",
   "execution_count": null,
   "id": "6aba8ac3",
   "metadata": {},
   "outputs": [],
   "source": [
    "# 카테고리별 키워드 정의\n",
    "category_keywords = {\n",
    "    '노트북': ['노트북','맥북', '그램','ThinkPad','FLEX','스트릭스','스워드','Zenbook','오멘','블레이드','에일리언웨어', '갤럭시북', '아이디어패드','울트라PC','코어i7', '코어i5', '코어i9','라이젠'],\n",
    "    '스마트폰': ['스마트폰'],\n",
    "    '헤드폰': ['헤드폰','헤드셋'],\n",
    "    '스피커': ['스피커'],\n",
    "    '모니터': ['모니터'],\n",
    "    '냉장고': ['냉장고'],\n",
    "    '마우스': ['마우스', 'G PRO'],\n",
    "    '청소기': ['청소기'],\n",
    "    '키보드': ['키보드','키크론'],\n",
    "    'TV': ['TV','HD'],\n",
    "    '세탁기': ['세탁기'],         \n",
    "    '가전/디지털': ['가전/디지털'],  \n",
    "    '로봇청소기': ['로봇청소기'],\n",
    "    '게이밍': ['게이밍'],\n",
    "    '이어폰': ['이어폰'],\n",
    "    '저장장치': ['저장장치'],\n",
    "    'unknown' : ['unknown']\n",
    "}\n",
    "\n",
    "# 분류를 위한 함수 정의\n",
    "def categorize_by_keywords(item, category_keywords):\n",
    "    for category, keywords in category_keywords.items():\n",
    "        if any(keyword in item for keyword in keywords):\n",
    "            return category\n",
    "    return item  # 키워드가 일치하지 않는 경우 etc 처리\n",
    "\n",
    "# 'cate' 열에 함수 적용\n",
    "df_test['cate'] = df_test['cate'].apply(lambda x: categorize_by_keywords(x, category_keywords))\n",
    "df_test"
   ]
  },
  {
   "cell_type": "markdown",
   "id": "793d18fe",
   "metadata": {},
   "source": [
    "---"
   ]
  }
 ],
 "metadata": {
  "kernelspec": {
   "display_name": "Python 3 (ipykernel)",
   "language": "python",
   "name": "python3"
  },
  "language_info": {
   "codemirror_mode": {
    "name": "ipython",
    "version": 3
   },
   "file_extension": ".py",
   "mimetype": "text/x-python",
   "name": "python",
   "nbconvert_exporter": "python",
   "pygments_lexer": "ipython3",
   "version": "3.8.16"
  },
  "toc": {
   "base_numbering": 1,
   "nav_menu": {},
   "number_sections": true,
   "sideBar": true,
   "skip_h1_title": false,
   "title_cell": "Table of Contents",
   "title_sidebar": "Contents",
   "toc_cell": false,
   "toc_position": {
    "height": "calc(100% - 180px)",
    "left": "10px",
    "top": "150px",
    "width": "358.390625px"
   },
   "toc_section_display": true,
   "toc_window_display": false
  },
  "varInspector": {
   "cols": {
    "lenName": 16,
    "lenType": 16,
    "lenVar": 40
   },
   "kernels_config": {
    "python": {
     "delete_cmd_postfix": "",
     "delete_cmd_prefix": "del ",
     "library": "var_list.py",
     "varRefreshCmd": "print(var_dic_list())"
    },
    "r": {
     "delete_cmd_postfix": ") ",
     "delete_cmd_prefix": "rm(",
     "library": "var_list.r",
     "varRefreshCmd": "cat(var_dic_list()) "
    }
   },
   "types_to_exclude": [
    "module",
    "function",
    "builtin_function_or_method",
    "instance",
    "_Feature"
   ],
   "window_display": false
  }
 },
 "nbformat": 4,
 "nbformat_minor": 5
}
