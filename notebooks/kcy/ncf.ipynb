{
 "cells": [
  {
   "cell_type": "code",
   "execution_count": 1,
   "metadata": {},
   "outputs": [],
   "source": [
    "import os\n",
    "import random\n",
    "import numpy as np\n",
    "import pandas as pd\n",
    "from sklearn.model_selection import train_test_split\n",
    "from sklearn.metrics import roc_auc_score\n",
    "\n",
    "import matplotlib.pyplot as plt\n",
    "%matplotlib inline\n",
    "\n",
    "import torch\n",
    "import torch.nn as nn\n",
    "from torch.nn.init import normal_\n",
    "from torch.utils.data import TensorDataset, DataLoader"
   ]
  },
  {
   "cell_type": "code",
   "execution_count": 2,
   "metadata": {},
   "outputs": [],
   "source": [
    "seed = 0  # 바꾸지 마시오!\n",
    "random.seed(seed)\n",
    "np.random.seed(seed)\n",
    "torch.manual_seed(seed)\n",
    "if torch.cuda.is_available():\n",
    "    torch.cuda.manual_seed_all(seed)\n",
    "    torch.backends.cudnn.deterministic = True"
   ]
  },
  {
   "cell_type": "code",
   "execution_count": 5,
   "metadata": {},
   "outputs": [],
   "source": [
    "from google.oauth2 import service_account\n",
    "from google.cloud import bigquery\n",
    "\n",
    "SERVICE_ACCOUNT_FILE = \"../../config/level3-416207-893f91c9529e.json\"  # 키 json 파일\n",
    "\n",
    "# Credentials 객체 생성\n",
    "credentials = service_account.Credentials.from_service_account_file(SERVICE_ACCOUNT_FILE)\n",
    "\n",
    "# 빅쿼리 클라이언트 객체 생성\n",
    "project_id = \"level3-416207\"\n",
    "client = bigquery.Client(credentials=credentials, project=project_id)\n"
   ]
  },
  {
   "cell_type": "code",
   "execution_count": null,
   "metadata": {},
   "outputs": [],
   "source": [
    "from google.cloud import bigquery\n",
    "from google.oauth2 import service_account\n",
    "\n",
    "# 쿼리 실행\n",
    "# 빅쿼리 디렉토리는 <프로젝트ID>.<데이터셋ID>.<테이블ID> 순으로 저장되어있음 ex) level3-416207.l3_30.l3_30\n",
    "QUERY = (\n",
    "    '''\n",
    "    SELECT \n",
    "        hashed_ip,\n",
    "        user_device_endpoint,\n",
    "        local_time,\n",
    "        request_url_endpoint,\n",
    "        keywords_list,\n",
    "        uri_first\n",
    "    FROM `level3-416207.log_129.user_device_log`\n",
    "    ''')\n",
    "\n",
    "\n",
    "# API request\n",
    "df = client.query(QUERY).to_dataframe()"
   ]
  },
  {
   "cell_type": "code",
   "execution_count": 3,
   "metadata": {},
   "outputs": [
    {
     "name": "stderr",
     "output_type": "stream",
     "text": [
      "/tmp/ipykernel_1927418/2192511439.py:1: DtypeWarning: Columns (5) have mixed types. Specify dtype option on import or set low_memory=False.\n",
      "  df = pd.read_csv('../../data/user_device_log.csv')\n"
     ]
    },
    {
     "name": "stdout",
     "output_type": "stream",
     "text": [
      "<class 'pandas.core.frame.DataFrame'>\n",
      "RangeIndex: 23622828 entries, 0 to 23622827\n",
      "Data columns (total 7 columns):\n",
      " #   Column                Dtype \n",
      "---  ------                ----- \n",
      " 0   Unnamed: 0            int64 \n",
      " 1   hashed_ip             object\n",
      " 2   user_device_endpoint  object\n",
      " 3   local_time            object\n",
      " 4   request_url_endpoint  object\n",
      " 5   keywords_list         object\n",
      " 6   uri_first             object\n",
      "dtypes: int64(1), object(6)\n",
      "memory usage: 1.2+ GB\n"
     ]
    }
   ],
   "source": [
    "df = pd.read_csv('../../data/user_device_log.csv')\n",
    "df.info()"
   ]
  },
  {
   "cell_type": "code",
   "execution_count": 4,
   "metadata": {},
   "outputs": [],
   "source": [
    "df = df[['user_device_endpoint', 'local_time', 'request_url_endpoint', 'keywords_list', 'uri_first']]"
   ]
  },
  {
   "cell_type": "code",
   "execution_count": 5,
   "metadata": {},
   "outputs": [],
   "source": [
    "import pandas as pd\n",
    "\n",
    "spec = df[df['request_url_endpoint'].str.startswith('/spec')]\n",
    "comment = df[df['request_url_endpoint'].str.startswith('/comments')]\n",
    "product = df[df['request_url_endpoint'].str.startswith('/products')]\n",
    "\n",
    "df = pd.concat([product])\n",
    "#df = pd.concat([spec, comment, product])"
   ]
  },
  {
   "cell_type": "code",
   "execution_count": 6,
   "metadata": {},
   "outputs": [
    {
     "name": "stdout",
     "output_type": "stream",
     "text": [
      "<class 'pandas.core.frame.DataFrame'>\n",
      "Index: 1727615 entries, 2 to 9642464\n",
      "Data columns (total 6 columns):\n",
      " #   Column                Dtype \n",
      "---  ------                ----- \n",
      " 0   user_device_endpoint  object\n",
      " 1   local_time            object\n",
      " 2   request_url_endpoint  object\n",
      " 3   keywords_list         object\n",
      " 4   uri_first             object\n",
      " 5   product_id            object\n",
      "dtypes: object(6)\n",
      "memory usage: 92.3+ MB\n"
     ]
    }
   ],
   "source": [
    "df['product_id'] = df['request_url_endpoint'].str.split('/').str[2]\n",
    "df = df[df['product_id'].apply(lambda x: len(str(x)) == len('db696dbc255f0443bb7f782ac0ec24d45003f792cb9dbb7c810f7dd8216a18b2'))]\n",
    "df.info()"
   ]
  },
  {
   "cell_type": "code",
   "execution_count": 7,
   "metadata": {},
   "outputs": [],
   "source": [
    "df['user']=df['user_device_endpoint']\n",
    "df['item']=df['product_id']\n",
    "\n",
    "del df['request_url_endpoint'], df['local_time'], df['product_id'], df['uri_first'], df['keywords_list']"
   ]
  },
  {
   "cell_type": "code",
   "execution_count": 8,
   "metadata": {},
   "outputs": [
    {
     "data": {
      "text/plain": [
       "4246"
      ]
     },
     "execution_count": 8,
     "metadata": {},
     "output_type": "execute_result"
    }
   ],
   "source": [
    "len(df['user'].unique())"
   ]
  },
  {
   "cell_type": "code",
   "execution_count": 9,
   "metadata": {},
   "outputs": [],
   "source": [
    "# import matplotlib.pyplot as plt\n",
    "\n",
    "# # 사용자를 x축으로, 상호 작용 횟수를 y축으로 하는 그래프 그리기\n",
    "# plt.figure(figsize=(10, 6))\n",
    "# plt.bar(range(len(selected_users)), selected_users.values, color='skyblue')\n",
    "# # plt.xlabel('user')\n",
    "# # plt.ylabel('interaction')\n",
    "# plt.title('user interaction counts')\n",
    "# # plt.xticks(rotation=45)  # x축 레이블 회전\n",
    "# plt.tight_layout()  # 그래프 간격 조정\n",
    "# plt.show()"
   ]
  },
  {
   "cell_type": "code",
   "execution_count": 10,
   "metadata": {},
   "outputs": [],
   "source": [
    "# user별 interaction 개수를 계산\n",
    "user_interaction_counts = df['user'].value_counts()\n",
    "\n",
    "# interaction이 3개 이상인 user의 목록을 가져옴\n",
    "selected_users = user_interaction_counts[user_interaction_counts >= 3].index\n",
    "\n",
    "# interaction이 3개 이상인 user에 대한 데이터만 남김\n",
    "df = df[df['user'].isin(selected_users)]\n",
    "raw_rating_df = df"
   ]
  },
  {
   "cell_type": "code",
   "execution_count": 11,
   "metadata": {},
   "outputs": [
    {
     "name": "stdout",
     "output_type": "stream",
     "text": [
      "Raw rating df\n",
      "                     user_device_endpoint                              user  \\\n",
      "2        1ad94a1446fd930f13b89d54a558d42b  1ad94a1446fd930f13b89d54a558d42b   \n",
      "5        372ebc160dc13e2061ccca7479625608  372ebc160dc13e2061ccca7479625608   \n",
      "8        95b9b2997a29e6b3e1d25366907f5d21  95b9b2997a29e6b3e1d25366907f5d21   \n",
      "17       d75c092099231db6df58c1a67446782b  d75c092099231db6df58c1a67446782b   \n",
      "21       107898b861583db5a296b466c207b3c0  107898b861583db5a296b466c207b3c0   \n",
      "...                                   ...                               ...   \n",
      "9642421  344ccdb50fd11d0b5351cc97b6661b5d  344ccdb50fd11d0b5351cc97b6661b5d   \n",
      "9642434  1b08cc472a23a66134f783c3ab6ba793  1b08cc472a23a66134f783c3ab6ba793   \n",
      "9642437  1b08cc472a23a66134f783c3ab6ba793  1b08cc472a23a66134f783c3ab6ba793   \n",
      "9642442  630ad21e25badeca5fe85d9b80d51921  630ad21e25badeca5fe85d9b80d51921   \n",
      "9642464  be448bde05ee04dba69f3e8bed3e0fe9  be448bde05ee04dba69f3e8bed3e0fe9   \n",
      "\n",
      "                                                      item  rating  \n",
      "2        04ed93007b411bc797d7ed85af402e63b0edd33e606d0b...     1.0  \n",
      "5        167b7e84f07968338c9a0c9ee683cbe402b701d02827e4...     1.0  \n",
      "8        d86681b50284177ba298f8add8798cd0ab428183b604cb...     1.0  \n",
      "17       be422f12d576ee095d56f3212bdf9ab6a0c60babb04aef...     1.0  \n",
      "21       768715c72efa8956463ec471f92e7fa07ea98474fc473b...     1.0  \n",
      "...                                                    ...     ...  \n",
      "9642421  dc92b32454533ed5601641e544f97bd2218a11d4d9349b...     1.0  \n",
      "9642434  786caa396cd35bae2e84cfe8a7383a45e8cd40235cdd2c...     1.0  \n",
      "9642437  1006af55d8b93b9c459fdfc4089f81c5c6043d20ef940b...     1.0  \n",
      "9642442  768715c72efa8956463ec471f92e7fa07ea98474fc473b...     1.0  \n",
      "9642464  8082889a98fefcfb7b367d0da5c05a0ed7bb72efc01f46...     1.0  \n",
      "\n",
      "[1727334 rows x 4 columns]\n"
     ]
    }
   ],
   "source": [
    "# 1. Rating df 생성\n",
    "\n",
    "# raw_rating_df = pd.read_csv(rating_data)\n",
    "# raw_rating_df\n",
    "raw_rating_df['rating'] = 1.0 # implicit feedback\n",
    "# raw_rating_df.drop(['time'],axis=1,inplace=True)\n",
    "print(\"Raw rating df\")\n",
    "print(raw_rating_df)\n",
    "\n",
    "users = set(raw_rating_df.loc[:, 'user'])\n",
    "items = set(raw_rating_df.loc[:, 'item'])"
   ]
  },
  {
   "cell_type": "code",
   "execution_count": 12,
   "metadata": {},
   "outputs": [
    {
     "name": "stdout",
     "output_type": "stream",
     "text": [
      "Create Nagetive instances\n"
     ]
    },
    {
     "name": "stderr",
     "output_type": "stream",
     "text": [
      "100%|██████████| 4049/4049 [01:36<00:00, 42.06it/s]\n"
     ]
    },
    {
     "name": "stdout",
     "output_type": "stream",
     "text": [
      "Data\n",
      "                     user_device_endpoint  user   item  rating\n",
      "0                                     NaN     0   2540     0.0\n",
      "1                                     NaN     0  27016     0.0\n",
      "2                                     NaN     0  15600     0.0\n",
      "3                                     NaN     0  30395     0.0\n",
      "4        0000b3bd89ce5751f77754172ffdd28b     0  32893     1.0\n",
      "...                                   ...   ...    ...     ...\n",
      "1929779                               NaN  4048   5354     0.0\n",
      "1929780                               NaN  4048  14146     0.0\n",
      "1929781                               NaN  4048  25579     0.0\n",
      "1929782                               NaN  4048  14303     0.0\n",
      "1929783                               NaN  4048   8918     0.0\n",
      "\n",
      "[1929784 rows x 4 columns]\n",
      "# of data : 1929784\n",
      "# of users : 4049\n",
      "# of items : 33196\n",
      "\n"
     ]
    }
   ],
   "source": [
    "from tqdm import tqdm\n",
    "\n",
    "#3. Negative instance 생성\n",
    "\n",
    "# 시청횟수를 기준으로 raw_genre_df를 오름차순으로 정렬하고, 시청횟수가 적은 500개 아이템을 선택합니다.\n",
    "# items_few_views = set(raw_genre_df.sort_values(by='views')['item'].head(500))\n",
    "\n",
    "print(\"Create Nagetive instances\")\n",
    "num_negative = 50\n",
    "user_group_dfs = list(df.groupby('user')['item'])\n",
    "first_row = True\n",
    "user_neg_dfs = pd.DataFrame()\n",
    "\n",
    "for u, u_items in tqdm(user_group_dfs):\n",
    "    u_items = set(u_items)\n",
    "    i_user_neg_item = np.random.choice(list(items - u_items), num_negative, replace=False)\n",
    "    \n",
    "    i_user_neg_df = pd.DataFrame({'user': [u]*num_negative, 'item': i_user_neg_item, 'rating': [0]*num_negative})\n",
    "    if first_row == True:\n",
    "        user_neg_dfs = i_user_neg_df\n",
    "        first_row = False\n",
    "    else:\n",
    "        user_neg_dfs = pd.concat([user_neg_dfs, i_user_neg_df], axis = 0, sort=False)\n",
    "\n",
    "raw_rating_df = pd.concat([raw_rating_df, user_neg_dfs], axis = 0, sort=False)\n",
    "\n",
    "# 4. Join inter_df, genre_df dfs\n",
    "# joined_rating_df = pd.merge(raw_rating_df, raw_genre_df, left_on='item', right_on='item', how='inner')\n",
    "# print(\"Joined rating df\")\n",
    "# print(joined_rating_df)\n",
    "\n",
    "# 5. Embedding을 위해서 user,item,genre를 zero-based index로 mapping(Zero-based Indexing)\n",
    "#     - Zero-based Indexing :  item 을 0부터 시작하는 인덱스 데이터에 대한 순서 정보로 처리 지만, 여기서는 단순 레이블 인코딩\n",
    "#     - user : 0-31359 / 31360 명\n",
    "#     - item : 0-6806  / 6807 영화 수 / 최대값 68319 있음\n",
    "#     - genre : 0-17   / 18 장르 수\n",
    "# users = list(set(joined_rating_df.loc[:,'user']))\n",
    "# users.sort()\n",
    "# items =  list(set((joined_rating_df.loc[:, 'item'])))\n",
    "# items.sort()\n",
    "# genres =  list(set((joined_rating_df.loc[:, 'genre'])))\n",
    "# genres.sort()\n",
    "\n",
    "\n",
    "users = list(set(raw_rating_df.loc[:,'user']))\n",
    "users.sort()\n",
    "items =  list(set((raw_rating_df.loc[:, 'item'])))\n",
    "items.sort()\n",
    "#\n",
    "# user 인덱싱\n",
    "if len(users)-1 != max(users):\n",
    "    users_dict = {users[i]: i for i in range(len(users))}\n",
    "    raw_rating_df['user']  = raw_rating_df['user'].map(lambda x : users_dict[x])\n",
    "    users = list(set(raw_rating_df.loc[:,'user']))\n",
    "# item 인덱싱    \n",
    "if len(items)-1 != max(items):\n",
    "    items_dict = {items[i]: i for i in range(len(items))}\n",
    "    raw_rating_df['item']  = raw_rating_df['item'].map(lambda x : items_dict[x])\n",
    "    items =  list(set((raw_rating_df.loc[:, 'item'])))\n",
    "\n",
    "joined_rating_df = raw_rating_df.sort_values(by=['user'])\n",
    "joined_rating_df.reset_index(drop=True, inplace=True)\n",
    "\n",
    "data = joined_rating_df\n",
    "print(\"Data\")\n",
    "print(data)\n",
    "\n",
    "n_data = len(data)\n",
    "n_user = len(users)\n",
    "n_item = len(items)\n",
    "# n_genre = len(genres)\n",
    "\n",
    "print(\"# of data : {}\\n# of users : {}\\n# of items : {}\\n\".format(n_data, n_user, n_item))"
   ]
  },
  {
   "cell_type": "code",
   "execution_count": 13,
   "metadata": {},
   "outputs": [
    {
     "data": {
      "text/html": [
       "<div>\n",
       "<style scoped>\n",
       "    .dataframe tbody tr th:only-of-type {\n",
       "        vertical-align: middle;\n",
       "    }\n",
       "\n",
       "    .dataframe tbody tr th {\n",
       "        vertical-align: top;\n",
       "    }\n",
       "\n",
       "    .dataframe thead th {\n",
       "        text-align: right;\n",
       "    }\n",
       "</style>\n",
       "<table border=\"1\" class=\"dataframe\">\n",
       "  <thead>\n",
       "    <tr style=\"text-align: right;\">\n",
       "      <th></th>\n",
       "      <th>user</th>\n",
       "      <th>item</th>\n",
       "      <th>rating</th>\n",
       "    </tr>\n",
       "  </thead>\n",
       "  <tbody>\n",
       "    <tr>\n",
       "      <th>0</th>\n",
       "      <td>0</td>\n",
       "      <td>2540</td>\n",
       "      <td>0.0</td>\n",
       "    </tr>\n",
       "    <tr>\n",
       "      <th>1</th>\n",
       "      <td>0</td>\n",
       "      <td>27016</td>\n",
       "      <td>0.0</td>\n",
       "    </tr>\n",
       "    <tr>\n",
       "      <th>2</th>\n",
       "      <td>0</td>\n",
       "      <td>15600</td>\n",
       "      <td>0.0</td>\n",
       "    </tr>\n",
       "    <tr>\n",
       "      <th>3</th>\n",
       "      <td>0</td>\n",
       "      <td>30395</td>\n",
       "      <td>0.0</td>\n",
       "    </tr>\n",
       "    <tr>\n",
       "      <th>4</th>\n",
       "      <td>0</td>\n",
       "      <td>32893</td>\n",
       "      <td>1.0</td>\n",
       "    </tr>\n",
       "    <tr>\n",
       "      <th>...</th>\n",
       "      <td>...</td>\n",
       "      <td>...</td>\n",
       "      <td>...</td>\n",
       "    </tr>\n",
       "    <tr>\n",
       "      <th>1929779</th>\n",
       "      <td>4048</td>\n",
       "      <td>5354</td>\n",
       "      <td>0.0</td>\n",
       "    </tr>\n",
       "    <tr>\n",
       "      <th>1929780</th>\n",
       "      <td>4048</td>\n",
       "      <td>14146</td>\n",
       "      <td>0.0</td>\n",
       "    </tr>\n",
       "    <tr>\n",
       "      <th>1929781</th>\n",
       "      <td>4048</td>\n",
       "      <td>25579</td>\n",
       "      <td>0.0</td>\n",
       "    </tr>\n",
       "    <tr>\n",
       "      <th>1929782</th>\n",
       "      <td>4048</td>\n",
       "      <td>14303</td>\n",
       "      <td>0.0</td>\n",
       "    </tr>\n",
       "    <tr>\n",
       "      <th>1929783</th>\n",
       "      <td>4048</td>\n",
       "      <td>8918</td>\n",
       "      <td>0.0</td>\n",
       "    </tr>\n",
       "  </tbody>\n",
       "</table>\n",
       "<p>1929784 rows × 3 columns</p>\n",
       "</div>"
      ],
      "text/plain": [
       "         user   item  rating\n",
       "0           0   2540     0.0\n",
       "1           0  27016     0.0\n",
       "2           0  15600     0.0\n",
       "3           0  30395     0.0\n",
       "4           0  32893     1.0\n",
       "...       ...    ...     ...\n",
       "1929779  4048   5354     0.0\n",
       "1929780  4048  14146     0.0\n",
       "1929781  4048  25579     0.0\n",
       "1929782  4048  14303     0.0\n",
       "1929783  4048   8918     0.0\n",
       "\n",
       "[1929784 rows x 3 columns]"
      ]
     },
     "execution_count": 13,
     "metadata": {},
     "output_type": "execute_result"
    }
   ],
   "source": [
    "df = data[['user', 'item', 'rating']]\n",
    "df"
   ]
  },
  {
   "cell_type": "code",
   "execution_count": 14,
   "metadata": {},
   "outputs": [
    {
     "name": "stdout",
     "output_type": "stream",
     "text": [
      "<class 'pandas.core.frame.DataFrame'>\n",
      "RangeIndex: 1929784 entries, 0 to 1929783\n",
      "Data columns (total 3 columns):\n",
      " #   Column  Dtype  \n",
      "---  ------  -----  \n",
      " 0   user    int64  \n",
      " 1   item    int64  \n",
      " 2   rating  float64\n",
      "dtypes: float64(1), int64(2)\n",
      "memory usage: 44.2 MB\n"
     ]
    }
   ],
   "source": [
    "df.info()"
   ]
  },
  {
   "cell_type": "code",
   "execution_count": 15,
   "metadata": {},
   "outputs": [
    {
     "name": "stderr",
     "output_type": "stream",
     "text": [
      "/tmp/ipykernel_1927418/2941368582.py:1: SettingWithCopyWarning: \n",
      "A value is trying to be set on a copy of a slice from a DataFrame.\n",
      "Try using .loc[row_indexer,col_indexer] = value instead\n",
      "\n",
      "See the caveats in the documentation: https://pandas.pydata.org/pandas-docs/stable/user_guide/indexing.html#returning-a-view-versus-a-copy\n",
      "  df['user'] = df['user'].astype(\"category\")\n",
      "/tmp/ipykernel_1927418/2941368582.py:2: SettingWithCopyWarning: \n",
      "A value is trying to be set on a copy of a slice from a DataFrame.\n",
      "Try using .loc[row_indexer,col_indexer] = value instead\n",
      "\n",
      "See the caveats in the documentation: https://pandas.pydata.org/pandas-docs/stable/user_guide/indexing.html#returning-a-view-versus-a-copy\n",
      "  df['item'] = df['item'].astype(\"category\")\n"
     ]
    }
   ],
   "source": [
    "df['user'] = df['user'].astype(\"category\")\n",
    "df['item'] = df['item'].astype(\"category\")"
   ]
  },
  {
   "cell_type": "code",
   "execution_count": 16,
   "metadata": {},
   "outputs": [
    {
     "name": "stdout",
     "output_type": "stream",
     "text": [
      "학습 데이터 크기: (1543827, 2) (1543827,)\n",
      "검증 데이터 크기: (192978, 2) (192978,)\n",
      "테스트 데이터 크기: (192979, 2) (192979,)\n"
     ]
    }
   ],
   "source": [
    "from sklearn.model_selection import train_test_split\n",
    "from sklearn.metrics import roc_auc_score\n",
    "\n",
    "# train_X, test_X, train_y, test_y = train_test_split(\n",
    "#     df.loc[:, df.columns != 'rating'], df['rating'], test_size=0.2, random_state=seed)\n",
    "\n",
    "# 전체 데이터를 train과 나머지로 나눔\n",
    "train_X, rest_X, train_y, rest_y = train_test_split(\n",
    "    df.loc[:, df.columns != 'rating'], df['rating'], test_size=0.2, random_state=seed)\n",
    "\n",
    "# 나머지를 다시 valid과 test로 나눔\n",
    "valid_X, test_X, valid_y, test_y = train_test_split(\n",
    "    rest_X, rest_y, test_size=0.5, random_state=seed)\n",
    "\n",
    "print('학습 데이터 크기:', train_X.shape, train_y.shape)\n",
    "print('검증 데이터 크기:', valid_X.shape, valid_y.shape)\n",
    "print('테스트 데이터 크기:', test_X.shape, test_y.shape)"
   ]
  },
  {
   "cell_type": "code",
   "execution_count": 17,
   "metadata": {},
   "outputs": [],
   "source": [
    "# PyTorch의 DataLoader에서 사용할 수 있도록 변환\n",
    "train_dataset = TensorDataset(torch.LongTensor(np.array(train_X)), torch.FloatTensor(np.array(train_y)))\n",
    "valid_dataset = TensorDataset(torch.LongTensor(np.array(valid_X)), torch.FloatTensor(np.array(valid_y)))\n",
    "test_dataset = TensorDataset(torch.LongTensor(np.array(test_X)), torch.FloatTensor(np.array(test_y)))"
   ]
  },
  {
   "cell_type": "markdown",
   "metadata": {},
   "source": [
    "## Neural Collaborative Filtering "
   ]
  },
  {
   "cell_type": "code",
   "execution_count": 18,
   "metadata": {},
   "outputs": [],
   "source": [
    "def activation_layer(activation_name='relu'):\n",
    "    \"\"\"\n",
    "    Construct activation layers\n",
    "\n",
    "    Args:\n",
    "        activation_name: str, name of activation function\n",
    "        emb_dim: int, used for Dice activation\n",
    "    Return:\n",
    "        activation: activation layer\n",
    "    \"\"\"\n",
    "    if activation_name is None:\n",
    "        activation = None\n",
    "    elif isinstance(activation_name, str):\n",
    "        if activation_name.lower() == 'sigmoid':\n",
    "            activation = nn.Sigmoid()\n",
    "        elif activation_name.lower() == 'tanh':\n",
    "            activation = nn.Tanh()\n",
    "        elif activation_name.lower() == 'relu':\n",
    "            activation = nn.ReLU()\n",
    "        elif activation_name.lower() == 'leakyrelu':\n",
    "            activation = nn.LeakyReLU()\n",
    "        elif activation_name.lower() == 'none':\n",
    "            activation = None\n",
    "    elif issubclass(activation_name, nn.Module):\n",
    "        activation = activation_name()\n",
    "    else:\n",
    "        raise NotImplementedError(\"activation function {} is not implemented\".format(activation_name))\n",
    "\n",
    "    return activation"
   ]
  },
  {
   "cell_type": "code",
   "execution_count": 19,
   "metadata": {},
   "outputs": [],
   "source": [
    "class MLPLayers(nn.Module):\n",
    "    \"\"\"\n",
    "    여러 층의 MLP Layer Class\n",
    "\n",
    "    Args:\n",
    "        - layers: (List) input layer, hidden layer, output layer의 node 수를 저장한 List.\n",
    "                ex) [5, 4, 3, 2] -> input layer: 5 nodes, output layer: 2 nodes, hidden layers: 4 nodes, 3 nodes\n",
    "        - dropout: (float) dropout 확률\n",
    "        - activation: (str) activation function의 함수. Default: 'relu'\n",
    "    Shape:\n",
    "        - Input: (torch.Tensor) input features. Shape: (batch size, # of input nodes)\n",
    "        - Output: (torch.Tensor) output features. Shape: (batch size, # of output nodes)\n",
    "    \"\"\"\n",
    "    def __init__(self, layers, dropout, activation='relu'):\n",
    "        super(MLPLayers, self).__init__()\n",
    "\n",
    "        # initialize Class attributes\n",
    "        self.layers = layers\n",
    "        self.n_layers = len(self.layers) - 1\n",
    "        self.dropout = dropout\n",
    "        self.activation = activation\n",
    "\n",
    "        # define layers\n",
    "        mlp_modules = list()\n",
    "        for i in range(self.n_layers):\n",
    "            mlp_modules.append(nn.Dropout(p=self.dropout))\n",
    "            input_size = self.layers[i]\n",
    "            output_size = self.layers[i+1]\n",
    "            mlp_modules.append(nn.Linear(input_size, output_size))\n",
    "            activation_function = activation_layer(self.activation)\n",
    "            if activation_function is not None:\n",
    "                mlp_modules.append(activation_function)\n",
    "\n",
    "        self.mlp_layers = nn.Sequential(*mlp_modules)\n",
    "\n",
    "        self.apply(self._init_weights)\n",
    "\n",
    "    # initialize weights\n",
    "    def _init_weights(self, module):\n",
    "        if isinstance(module, nn.Linear):\n",
    "            normal_(module.weight.data, 0, 0.01)\n",
    "            if module.bias is not None:\n",
    "                module.bias.data.fill_(0.0)\n",
    "\n",
    "    def forward(self, input_feature):\n",
    "        return self.mlp_layers(input_feature)"
   ]
  },
  {
   "cell_type": "code",
   "execution_count": 20,
   "metadata": {},
   "outputs": [],
   "source": [
    "class NCF(nn.Module):\n",
    "    \"\"\"\n",
    "    Neural Collaborative Filtering\n",
    "\n",
    "    Args:\n",
    "        - n_users: (int) 전체 유저의 수\n",
    "        - n_items: (int) 전체 아이템의 수\n",
    "        - emb_dim: (int) Embedding의 Dimension\n",
    "        - layers: (List) Neural CF Layers의 각 node 수를 저장한 List.\n",
    "                ex) [5, 4, 3, 2] -> hidden layers: 5 nodes, 4 nodes, 3 nodes, 2 nodes\n",
    "        - dropout: (float) dropout 확률\n",
    "    Shape:\n",
    "        - Input: (torch.Tensor) input features, (user_id, item_id). Shape: (batch size, 2)\n",
    "        - Output: (torch.Tensor) expected implicit feedback. Shape: (batch size,)\n",
    "    \"\"\"\n",
    "    def __init__(self, n_users, n_items, emb_dim, layers, dropout):\n",
    "        super(NCF, self).__init__()\n",
    "\n",
    "        # initialize Class attributes\n",
    "        self.n_users = n_users\n",
    "        self.n_items = n_items\n",
    "        self.emb_dim = emb_dim\n",
    "        self.layers = layers\n",
    "        self.n_layers = len(self.layers) + 1\n",
    "        self.dropout = dropout\n",
    "\n",
    "        # define layers\n",
    "        self.user_embedding = nn.Embedding(self.n_users, self.emb_dim)\n",
    "        self.item_embedding = nn.Embedding(self.n_items, self.emb_dim)\n",
    "        self.mlp_layers = MLPLayers([2 * self.emb_dim] + self.layers, self.dropout)\n",
    "        self.predict_layer = nn.Linear(self.layers[-1], 1)\n",
    "        self.sigmoid = nn.Sigmoid()\n",
    "\n",
    "        self.apply(self._init_weights)\n",
    "\n",
    "    # initialize weights\n",
    "    def _init_weights(self, module):\n",
    "        if isinstance(module, nn.Embedding):\n",
    "            normal_(module.weight.data, mean=0.0, std=0.01)\n",
    "        elif isinstance(module, nn.Linear):\n",
    "            normal_(module.weight.data, 0, 0.01)\n",
    "            if module.bias is not None:\n",
    "                module.bias.data.fill_(0.0)\n",
    "\n",
    "    def forward(self, input_feature):\n",
    "        user, item = torch.split(input_feature, [1, 1], -1)\n",
    "        user = user.squeeze(-1)\n",
    "        item = item.squeeze(-1)\n",
    "\n",
    "        user_e = self.user_embedding(user)\n",
    "        item_e = self.item_embedding(item)\n",
    "\n",
    "        input_feature = torch.cat((user_e, item_e), -1)\n",
    "        mlp_output = self.mlp_layers(input_feature)\n",
    "        output = self.predict_layer(mlp_output)\n",
    "        output = self.sigmoid(output)\n",
    "        return output.squeeze(-1)"
   ]
  },
  {
   "cell_type": "code",
   "execution_count": 21,
   "metadata": {},
   "outputs": [],
   "source": [
    "# Reference - https://pytorch.org/tutorials/beginner/basics/optimization_tutorial.html\n",
    "\n",
    "def train_loop(dataloader, model, loss_fn, optimizer):\n",
    "    size = len(dataloader.dataset)\n",
    "    num_batches = len(dataloader)\n",
    "    train_loss = 0\n",
    "\n",
    "    for batch, (X, y) in enumerate(dataloader):\n",
    "        X, y = X.to(device), y.to(device)\n",
    "        # Compute prediction and loss\n",
    "        pred = model(X)\n",
    "        loss = loss_fn(pred, y)\n",
    "        train_loss += loss.item()\n",
    "\n",
    "        # Backpropagation\n",
    "        optimizer.zero_grad()\n",
    "        loss.backward()\n",
    "        optimizer.step()\n",
    "\n",
    "\n",
    "        if (batch+1) % 100 == 0:\n",
    "            loss, current = loss.item(), batch * len(X)\n",
    "            print(f\"Loss: {loss:>7f} | [{current:>5d}/{size:>5d}]\")\n",
    "    train_loss /= num_batches\n",
    "\n",
    "    return train_loss\n",
    "\n",
    "\n",
    "def test_loop(dataloader, model, loss_fn, err_fn):\n",
    "    size = len(dataloader.dataset)\n",
    "    num_batches = len(dataloader)\n",
    "    test_loss= 0\n",
    "    test_err = 0\n",
    "\n",
    "    with torch.no_grad():\n",
    "        for X, y in dataloader:\n",
    "            X, y = X.to(device), y.to(device)\n",
    "            pred = model(X)\n",
    "            test_loss += loss_fn(pred, y).item()\n",
    "            if err_fn is not None:\n",
    "                test_err += err_fn(pred, y).item()\n",
    "    test_loss /= num_batches\n",
    "    test_err /= num_batches\n",
    "    if err_fn is not None:\n",
    "        print(f\"Test Error:\\n\\tAvg Loss: {test_loss:>8f}\\n\\tError: {(test_err):>8f}\")\n",
    "    else:\n",
    "        print(f\"Test Error:\\n\\tAvg Loss: {test_loss:>8f}\")\n",
    "    return test_loss, test_err"
   ]
  },
  {
   "cell_type": "code",
   "execution_count": 22,
   "metadata": {},
   "outputs": [],
   "source": [
    "def train_and_test(train_dataloader, test_dataloader, model, loss_fn, err_fn, optimizer, epochs):\n",
    "    train_loss, test_loss, test_err = list(), list(), list()\n",
    "\n",
    "    for t in range(epochs):\n",
    "        print(f\"Epoch {t+1}\\n-------------------------------\")\n",
    "        train_result= train_loop(train_dataloader, model, loss_fn, optimizer)\n",
    "        train_loss.append(train_result)\n",
    "        test_result = test_loop(test_dataloader, model, loss_fn, err_fn)\n",
    "        test_loss.append(test_result[0])\n",
    "        test_err.append(test_result[1])\n",
    "        print(\"-------------------------------\\n\")\n",
    "    print(\"Done!\")\n",
    "\n",
    "    return train_loss, test_loss, test_err"
   ]
  },
  {
   "cell_type": "code",
   "execution_count": 23,
   "metadata": {},
   "outputs": [],
   "source": [
    "class RMSELoss(nn.Module):\n",
    "    def __init__(self):\n",
    "        super(RMSELoss, self).__init__()\n",
    "\n",
    "    def forward(self, pred, y):\n",
    "        loss = nn.MSELoss()(pred, y)\n",
    "        return torch.sqrt(loss)"
   ]
  },
  {
   "cell_type": "code",
   "execution_count": 24,
   "metadata": {},
   "outputs": [],
   "source": [
    "######## Hyperparameter ########\n",
    "\n",
    "batch_size = 2048\n",
    "data_shuffle = True\n",
    "emb_dim = 512\n",
    "layers = [256, 64]\n",
    "dropout = 0\n",
    "epochs = 10\n",
    "learning_rate = 0.001\n",
    "gpu_idx = 0\n",
    "weight_decay = 1e-4\n",
    "n_users = df['user'].nunique()\n",
    "n_items = df['item'].nunique()\n",
    "\n",
    "################################\n",
    "# torch.cuda.empty_cache() # if necessary\n",
    "torch.manual_seed(seed)\n",
    "if torch.cuda.is_available():\n",
    "    torch.cuda.manual_seed_all(seed)\n",
    "    torch.backends.cudnn.deterministic = True\n",
    "\n",
    "device = torch.device(\"cuda:{}\".format(gpu_idx) if torch.cuda.is_available() else \"cpu\")\n",
    "\n",
    "train_dataloader = DataLoader(train_dataset, batch_size=batch_size, shuffle=data_shuffle)\n",
    "valid_dataloader = DataLoader(valid_dataset, batch_size=batch_size, shuffle=data_shuffle)\n",
    "test_dataloader = DataLoader(test_dataset, batch_size=batch_size, shuffle=data_shuffle)\n",
    "\n",
    "model = NCF(n_users, n_items, emb_dim, layers, dropout).to(device)\n",
    "\n",
    "loss_fn = nn.BCELoss().to(device)\n",
    "err_fn = None\n",
    "optimizer = torch.optim.Adam(model.parameters(), lr=learning_rate, amsgrad=True, weight_decay=weight_decay)"
   ]
  },
  {
   "cell_type": "code",
   "execution_count": 25,
   "metadata": {},
   "outputs": [
    {
     "name": "stdout",
     "output_type": "stream",
     "text": [
      "Epoch 1\n",
      "-------------------------------\n",
      "Loss: 0.146619 | [202752/1543827]\n",
      "Loss: 0.149453 | [407552/1543827]\n",
      "Loss: 0.165545 | [612352/1543827]\n",
      "Loss: 0.134541 | [817152/1543827]\n",
      "Loss: 0.128882 | [1021952/1543827]\n",
      "Loss: 0.145231 | [1226752/1543827]\n",
      "Loss: 0.123578 | [1431552/1543827]\n",
      "Test Error:\n",
      "\tAvg Loss: 0.125526\n",
      "-------------------------------\n",
      "\n",
      "Epoch 2\n",
      "-------------------------------\n",
      "Loss: 0.109788 | [202752/1543827]\n",
      "Loss: 0.118021 | [407552/1543827]\n",
      "Loss: 0.115581 | [612352/1543827]\n",
      "Loss: 0.101264 | [817152/1543827]\n",
      "Loss: 0.118724 | [1021952/1543827]\n",
      "Loss: 0.112987 | [1226752/1543827]\n",
      "Loss: 0.114561 | [1431552/1543827]\n",
      "Test Error:\n",
      "\tAvg Loss: 0.115972\n",
      "-------------------------------\n",
      "\n",
      "Epoch 3\n",
      "-------------------------------\n",
      "Loss: 0.096149 | [202752/1543827]\n",
      "Loss: 0.092063 | [407552/1543827]\n",
      "Loss: 0.116629 | [612352/1543827]\n",
      "Loss: 0.125057 | [817152/1543827]\n",
      "Loss: 0.112804 | [1021952/1543827]\n",
      "Loss: 0.110114 | [1226752/1543827]\n",
      "Loss: 0.120919 | [1431552/1543827]\n",
      "Test Error:\n",
      "\tAvg Loss: 0.112920\n",
      "-------------------------------\n",
      "\n",
      "Epoch 4\n",
      "-------------------------------\n",
      "Loss: 0.092492 | [202752/1543827]\n",
      "Loss: 0.091552 | [407552/1543827]\n",
      "Loss: 0.086138 | [612352/1543827]\n",
      "Loss: 0.123618 | [817152/1543827]\n",
      "Loss: 0.105202 | [1021952/1543827]\n",
      "Loss: 0.109943 | [1226752/1543827]\n",
      "Loss: 0.105983 | [1431552/1543827]\n",
      "Test Error:\n",
      "\tAvg Loss: 0.112551\n",
      "-------------------------------\n",
      "\n",
      "Epoch 5\n",
      "-------------------------------\n",
      "Loss: 0.087216 | [202752/1543827]\n",
      "Loss: 0.091317 | [407552/1543827]\n",
      "Loss: 0.099046 | [612352/1543827]\n",
      "Loss: 0.108899 | [817152/1543827]\n",
      "Loss: 0.106631 | [1021952/1543827]\n",
      "Loss: 0.113830 | [1226752/1543827]\n",
      "Loss: 0.092573 | [1431552/1543827]\n",
      "Test Error:\n",
      "\tAvg Loss: 0.113478\n",
      "-------------------------------\n",
      "\n",
      "Epoch 6\n",
      "-------------------------------\n",
      "Loss: 0.110995 | [202752/1543827]\n",
      "Loss: 0.099219 | [407552/1543827]\n",
      "Loss: 0.104894 | [612352/1543827]\n",
      "Loss: 0.105070 | [817152/1543827]\n",
      "Loss: 0.125725 | [1021952/1543827]\n",
      "Loss: 0.110827 | [1226752/1543827]\n",
      "Loss: 0.102228 | [1431552/1543827]\n",
      "Test Error:\n",
      "\tAvg Loss: 0.112800\n",
      "-------------------------------\n",
      "\n",
      "Epoch 7\n",
      "-------------------------------\n",
      "Loss: 0.090129 | [202752/1543827]\n",
      "Loss: 0.099994 | [407552/1543827]\n",
      "Loss: 0.094065 | [612352/1543827]\n",
      "Loss: 0.098495 | [817152/1543827]\n",
      "Loss: 0.093229 | [1021952/1543827]\n",
      "Loss: 0.103416 | [1226752/1543827]\n",
      "Loss: 0.090833 | [1431552/1543827]\n",
      "Test Error:\n",
      "\tAvg Loss: 0.112880\n",
      "-------------------------------\n",
      "\n",
      "Epoch 8\n",
      "-------------------------------\n",
      "Loss: 0.093722 | [202752/1543827]\n",
      "Loss: 0.081067 | [407552/1543827]\n",
      "Loss: 0.104952 | [612352/1543827]\n",
      "Loss: 0.112172 | [817152/1543827]\n",
      "Loss: 0.095152 | [1021952/1543827]\n",
      "Loss: 0.095342 | [1226752/1543827]\n",
      "Loss: 0.104881 | [1431552/1543827]\n",
      "Test Error:\n",
      "\tAvg Loss: 0.113721\n",
      "-------------------------------\n",
      "\n",
      "Epoch 9\n",
      "-------------------------------\n",
      "Loss: 0.091077 | [202752/1543827]\n",
      "Loss: 0.097969 | [407552/1543827]\n",
      "Loss: 0.099233 | [612352/1543827]\n",
      "Loss: 0.100482 | [817152/1543827]\n",
      "Loss: 0.113255 | [1021952/1543827]\n",
      "Loss: 0.110810 | [1226752/1543827]\n",
      "Loss: 0.102045 | [1431552/1543827]\n",
      "Test Error:\n",
      "\tAvg Loss: 0.112591\n",
      "-------------------------------\n",
      "\n",
      "Epoch 10\n",
      "-------------------------------\n",
      "Loss: 0.097035 | [202752/1543827]\n",
      "Loss: 0.091970 | [407552/1543827]\n",
      "Loss: 0.096184 | [612352/1543827]\n",
      "Loss: 0.096086 | [817152/1543827]\n",
      "Loss: 0.099157 | [1021952/1543827]\n",
      "Loss: 0.098393 | [1226752/1543827]\n",
      "Loss: 0.097794 | [1431552/1543827]\n",
      "Test Error:\n",
      "\tAvg Loss: 0.113242\n",
      "-------------------------------\n",
      "\n",
      "Done!\n"
     ]
    }
   ],
   "source": [
    "train_loss, val_loss, val_err = train_and_test(train_dataloader, valid_dataloader, model, loss_fn, err_fn, optimizer, epochs)"
   ]
  },
  {
   "cell_type": "code",
   "execution_count": 44,
   "metadata": {},
   "outputs": [
    {
     "data": {
      "image/png": "[encoded data removed]",
      "text/plain": [
       "<Figure size 600x400 with 1 Axes>"
      ]
     },
     "metadata": {},
     "output_type": "display_data"
    }
   ],
   "source": [
    "fig, (loss_ax) = plt.subplots(1,1, figsize=(6,4))\n",
    "\n",
    "\n",
    "loss_ax.plot(range(1,epochs+1), train_loss, 'b', label='train loss')\n",
    "loss_ax.plot(range(1,epochs+1), val_loss, 'r', label='valid loss')\n",
    "\n",
    "loss_ax.set_xticks(range(0, epochs+1, 10))\n",
    "loss_ax.set_xlabel('Epoch')\n",
    "loss_ax.set_ylabel('Average Loss')\n",
    "loss_ax.legend()\n",
    "\n",
    "plt.show()"
   ]
  },
  {
   "cell_type": "code",
   "execution_count": 28,
   "metadata": {},
   "outputs": [],
   "source": [
    "def inference(model, dataloader, threshold=0.5):\n",
    "    \"\"\"\n",
    "    모델을 사용하여 테스트 데이터에 대한 추론을 수행합니다.\n",
    "\n",
    "    Args:\n",
    "        model: PyTorch 모델 인스턴스\n",
    "        dataloader: 테스트 데이터를 제공하는 DataLoader 인스턴스\n",
    "\n",
    "    Returns:\n",
    "        predictions: 모델의 이진 예측 결과를 담은 리스트\n",
    "        targets: 실제 타겟 값(레이블)을 담은 리스트\n",
    "    \"\"\"\n",
    "    model.eval()  # 모델을 evaluation 모드로 설정\n",
    "\n",
    "    preds = []\n",
    "    probs = []\n",
    "    targets = []\n",
    "\n",
    "    with torch.no_grad():\n",
    "        for X, y in dataloader:\n",
    "            X, y = X.to(device), y.to(device)\n",
    "            logit = model(X)  # 모델로 예측 수행 (확률값이 아닌 logits)\n",
    "            pred = (logit >= threshold).int()  # 확률값을 이진값으로 변환\n",
    "            probs.extend(logit)\n",
    "            preds.extend(pred.cpu().tolist())  # 이진값을 리스트에 추가\n",
    "            targets.extend(y.cpu().tolist())  # 실제 타겟 값을 리스트에 추가\n",
    "\n",
    "    return probs, preds, targets\n"
   ]
  },
  {
   "cell_type": "code",
   "execution_count": 29,
   "metadata": {},
   "outputs": [],
   "source": [
    "def accuracy(preds, targets):\n",
    "    \"\"\"\n",
    "    예측값과 타겟값을 비교하여 정확도를 계산합니다.\n",
    "\n",
    "    Args:\n",
    "        predictions: 모델의 예측 결과를 담은 리스트 (이진값)\n",
    "        targets: 실제 타겟 값(레이블)을 담은 리스트\n",
    "\n",
    "    Returns:\n",
    "        accuracy: 정확도\n",
    "    \"\"\"\n",
    "    correct = sum(pred == target for pred, target in zip(preds, targets))\n",
    "    total = len(targets)\n",
    "    accuracy = correct / total\n",
    "    return accuracy\n"
   ]
  },
  {
   "cell_type": "code",
   "execution_count": 30,
   "metadata": {},
   "outputs": [],
   "source": [
    "from sklearn.metrics import mean_squared_error\n",
    "from sklearn.metrics import f1_score\n",
    "import numpy as np\n",
    "\n",
    "def calculate_rmse(preds, targets):\n",
    "    # 예측값과 실제값의 RMSE 계산\n",
    "    rmse = np.sqrt(mean_squared_error(targets, preds))\n",
    "    return rmse\n"
   ]
  },
  {
   "cell_type": "code",
   "execution_count": 31,
   "metadata": {},
   "outputs": [],
   "source": [
    "probs, preds, targets = inference(model=model, dataloader=valid_dataloader)"
   ]
  },
  {
   "cell_type": "code",
   "execution_count": 32,
   "metadata": {},
   "outputs": [
    {
     "name": "stdout",
     "output_type": "stream",
     "text": [
      "RMSE: 0.18092908240713393\n",
      "ACC:  0.9561452600814601\n",
      "F1 score: 0.9756372795969773\n"
     ]
    }
   ],
   "source": [
    "print(\"RMSE:\", calculate_rmse(probs, targets))\n",
    "print(\"ACC: \", accuracy(preds, targets))\n",
    "print(\"F1 score:\", f1_score(y_true=targets, y_pred=preds))\n",
    "print(\"ROC AUC score:\", roc_auc_score(y_true=targets, y_score=probs))"
   ]
  },
  {
   "cell_type": "code",
   "execution_count": 34,
   "metadata": {},
   "outputs": [],
   "source": [
    "probs, preds, targets = inference(model=model, dataloader=test_dataloader)"
   ]
  },
  {
   "cell_type": "code",
   "execution_count": 36,
   "metadata": {},
   "outputs": [
    {
     "name": "stdout",
     "output_type": "stream",
     "text": [
      "ACC:  0.9569538654464994\n",
      "RMSE: 0.17932947718766334\n",
      "F1 score: 0.9760831948959056\n",
      "ROC AUC score: 0.9761981737188283\n"
     ]
    }
   ],
   "source": [
    "print(\"ACC: \", accuracy(preds, targets))\n",
    "print(\"RMSE:\", calculate_rmse(probs, targets))\n",
    "print(\"F1 score:\", f1_score(y_true=targets, y_pred=preds))\n",
    "print(\"ROC AUC score:\", roc_auc_score(y_true=targets, y_score=probs))"
   ]
  },
  {
   "cell_type": "code",
   "execution_count": 38,
   "metadata": {},
   "outputs": [
    {
     "data": {
      "text/plain": [
       "819606     1.0\n",
       "1517506    1.0\n",
       "734491     1.0\n",
       "720838     1.0\n",
       "1559624    1.0\n",
       "          ... \n",
       "1538037    1.0\n",
       "1179194    1.0\n",
       "1859039    0.0\n",
       "1684517    1.0\n",
       "1122054    1.0\n",
       "Name: rating, Length: 192979, dtype: float64"
      ]
     },
     "execution_count": 38,
     "metadata": {},
     "output_type": "execute_result"
    }
   ],
   "source": [
    "test_y"
   ]
  },
  {
   "cell_type": "code",
   "execution_count": 39,
   "metadata": {},
   "outputs": [
    {
     "name": "stdout",
     "output_type": "stream",
     "text": [
      "Number of ones (positive class): 172709\n",
      "Number of zeros (negative class): 20270\n",
      "Ratio of ones (positive class): 0.8949626643313521\n",
      "Ratio of zeros (negative class): 0.10503733566864788\n"
     ]
    }
   ],
   "source": [
    "# test_y 배열에서 1과 0의 개수를 세기\n",
    "counts = np.bincount(test_y)\n",
    "num_ones = counts[1]\n",
    "num_zeros = counts[0]\n",
    "\n",
    "# 1과 0의 개수를 출력\n",
    "print(\"Number of ones (positive class):\", num_ones)\n",
    "print(\"Number of zeros (negative class):\", num_zeros)\n",
    "\n",
    "# 1과 0의 비율을 계산하여 출력\n",
    "ratio_ones = num_ones / len(test_y)\n",
    "ratio_zeros = num_zeros / len(test_y)\n",
    "print(\"Ratio of ones (positive class):\", ratio_ones)\n",
    "print(\"Ratio of zeros (negative class):\", ratio_zeros)"
   ]
  },
  {
   "cell_type": "code",
   "execution_count": 41,
   "metadata": {},
   "outputs": [],
   "source": [
    "# 모델 저장 경로\n",
    "model_path = 'ncf.pt'\n",
    "# 모델의 상태를 딕셔너리 형태로 가져오기\n",
    "model_state = model.state_dict()\n",
    "# 모델 상태를 파일로 저장\n",
    "torch.save(model_state, model_path)"
   ]
  },
  {
   "cell_type": "markdown",
   "metadata": {},
   "source": [
    "## 모델 서빙할때 사용할 코드"
   ]
  },
  {
   "cell_type": "code",
   "execution_count": 73,
   "metadata": {},
   "outputs": [
    {
     "name": "stderr",
     "output_type": "stream",
     "text": [
      "  0%|          | 0/4049 [00:00<?, ?it/s]"
     ]
    },
    {
     "name": "stderr",
     "output_type": "stream",
     "text": [
      "100%|██████████| 4049/4049 [10:14<00:00,  6.59it/s]"
     ]
    },
    {
     "name": "stdout",
     "output_type": "stream",
     "text": [
      "Hit rate: 0.0\n"
     ]
    },
    {
     "name": "stderr",
     "output_type": "stream",
     "text": [
      "\n"
     ]
    }
   ],
   "source": [
    "from collections import defaultdict\n",
    "\n",
    "# 모든 사용자-아이템 쌍에 대한 결과 생성 후 랭킹\n",
    "u_list = []\n",
    "i_list = []\n",
    "ritems_dict = {v: k for k, v in items_dict.items()}\n",
    "hit_count = 0\n",
    "total_count = 0\n",
    "hit_rate_dict = defaultdict(int)\n",
    "\n",
    "for u, u_items in tqdm(user_group_dfs):\n",
    "\n",
    "    # 인코딩하기 전에 유저id 저장\n",
    "    u_list.append([u] * 10)\n",
    "\n",
    "    # user encoding\n",
    "    u = users_dict[u]\n",
    "    u_items = set(u_items.map(lambda x: items_dict[x]))  # encoding된 유저의 시청 아이템\n",
    "\n",
    "    # user, item, genre 데이터를 인코딩하여 학습한 모델에 맞는 값으로 변환\n",
    "    i_user_col = torch.tensor([u] * n_item)\n",
    "    i_item_col = torch.tensor(list(raw_rating_df['item'].unique()))\n",
    "\n",
    "    x = torch.cat([i_user_col.unsqueeze(1), i_item_col.unsqueeze(1)], dim=1)\n",
    "    x = x.to(device)\n",
    "\n",
    "    model.eval()\n",
    "    output_batch = model(x)\n",
    "    output_batch = output_batch.cpu().detach().numpy()\n",
    "\n",
    "    output_batch[list(u_items)] = -1  # 이미 본 아이템 제외\n",
    "    result_batch = np.argsort(output_batch)[-10:][::-1]  # Top 10 item_id 추출\n",
    "    i_list.append(list(map(lambda x: ritems_dict[x], result_batch)))  # item decoding\n",
    "\n",
    "#     # Hit rate 계산\n",
    "#     for recommended_item in result_batch:\n",
    "#         if recommended_item in u_items:\n",
    "#             hit_count += 1\n",
    "#             hit_rate_dict[u] += 1\n",
    "#         total_count += 1\n",
    "\n",
    "# hit_rate = hit_count / total_count\n",
    "# print(\"Hit rate:\", hit_rate)\n",
    "\n",
    "# # 각 사용자별 Hit rate 출력\n",
    "# for user, hit_count_user in hit_rate_dict.items():\n",
    "#     total_count_user = len(user_group_dfs[user])\n",
    "#     hit_rate_user = hit_count_user / total_count_user\n",
    "#     print(f\"User {user}: Hit rate {hit_rate_user}\")\n"
   ]
  }
 ],
 "metadata": {
  "kernelspec": {
   "display_name": "torch",
   "language": "python",
   "name": "python3"
  },
  "language_info": {
   "codemirror_mode": {
    "name": "ipython",
    "version": 3
   },
   "file_extension": ".py",
   "mimetype": "text/x-python",
   "name": "python",
   "nbconvert_exporter": "python",
   "pygments_lexer": "ipython3",
   "version": "3.1.0"
  }
 },
 "nbformat": 4,
 "nbformat_minor": 2
}
