{
 "cells": [
  {
   "cell_type": "code",
   "execution_count": null,
   "metadata": {},
   "outputs": [],
   "source": [
    "import pandas as pd\n",
    "import numpy as np\n",
    "from tqdm import tqdm\n",
    "import pickle\n",
    "from sklearn.feature_extraction.text import TfidfVectorizer\n",
    "from sklearn.metrics.pairwise import cosine_similarity"
   ]
  },
  {
   "cell_type": "code",
   "execution_count": null,
   "metadata": {},
   "outputs": [],
   "source": [
    "df = pd.read_csv('/home/seungah/crwlnt/CB/inter_240113_title_none_piv.csv')\n",
    "df = df[df['local_time'] >= '2024-01-15 00:00:00+00:00']\n",
    "df"
   ]
  },
  {
   "cell_type": "code",
   "execution_count": null,
   "metadata": {},
   "outputs": [],
   "source": [
    "with open('/home/seungah/crwlnt/CB/product_info_with_title.pickle', 'rb') as fr:\n",
    "    product_data = pickle.load(fr)\n",
    "\n",
    "product_data"
   ]
  },
  {
   "cell_type": "markdown",
   "metadata": {},
   "source": [
    "## hashed_ip 별 title 묶기"
   ]
  },
  {
   "cell_type": "code",
   "execution_count": null,
   "metadata": {},
   "outputs": [],
   "source": [
    "data = df.copy()\n",
    "data_drop_local_time = data.drop(columns='local_time', axis=0)\n",
    "grouped = data_drop_local_time.groupby('hashed_ip')"
   ]
  },
  {
   "cell_type": "code",
   "execution_count": null,
   "metadata": {},
   "outputs": [],
   "source": [
    "df_grouped = pd.DataFrame(columns=['hashed_ip', 'products', 'product_titles', 'last_product', 'last_product_title'])\n",
    "\n",
    "for i in tqdm(grouped):\n",
    "    if len(i[1]) > 1 :\n",
    "        df_grouped.loc[len(df_grouped)] = [i[0], list(set(i[1]['products'][:-1])), str(list(set(i[1]['title'][:-1]))), list(set(i[1]['products'][-1:])), str(list(set(i[1]['title'][-1:])))]"
   ]
  },
  {
   "cell_type": "code",
   "execution_count": null,
   "metadata": {},
   "outputs": [],
   "source": [
    "df_grouped['product_titles'] = df_grouped['product_titles'].map(lambda x: x.replace('[','').replace(']','').replace(\"'\",'').replace(',','').replace('(', ' ').replace(')', ' '))\n",
    "df_grouped['product_titles'] = df_grouped['product_titles'].map(lambda x: x.split(' '))\n",
    "df_grouped['product_titles'] = df_grouped['product_titles'].map(lambda x: ' '.join(x).split())\n",
    "df_grouped['product_titles'] = df_grouped['product_titles'].map(lambda x: ' '.join(x))\n",
    "\n",
    "df_grouped['last_product_title'] = df_grouped['last_product_title'].map(lambda x: x.replace('[','').replace(']','').replace(\"'\",'').replace(',','').replace('(', ' ').replace(')', ' '))\n",
    "df_grouped['last_product_title'] = df_grouped['last_product_title'].map(lambda x: x.split(' '))\n",
    "df_grouped['last_product_title'] = df_grouped['last_product_title'].map(lambda x: ' '.join(x).split())\n",
    "df_grouped['last_product_title'] = df_grouped['last_product_title'].map(lambda x: ' '.join(x))\n",
    "df_grouped"
   ]
  },
  {
   "cell_type": "markdown",
   "metadata": {},
   "source": [
    "## TF-IDF"
   ]
  },
  {
   "cell_type": "code",
   "execution_count": null,
   "metadata": {},
   "outputs": [],
   "source": [
    "vectorizer = TfidfVectorizer()\n",
    "\n",
    "tfidf_user = vectorizer.fit_transform(df_grouped['product_titles'])\n",
    "tfidf_product = vectorizer.transform(product_data['title'])\n",
    "\n",
    "dtm_user = np.array(tfidf_user.todense())\n",
    "dtm_product = np.array(tfidf_product.todense())\n",
    "\n",
    "cosine_similarities = cosine_similarity(dtm_product, dtm_user)\n",
    "sim = pd.DataFrame(cosine_similarities) # 유저-아이템 유사도 행렬"
   ]
  },
  {
   "cell_type": "code",
   "execution_count": null,
   "metadata": {},
   "outputs": [],
   "source": [
    "hit100 = 0\n",
    "df_grouped['top100'] = None\n",
    "for i in tqdm(range(len(df_grouped))):\n",
    "    # i 번째 유저와의 유사도 top100 item index\n",
    "    product_idx = list(sim[i].sort_values(ascending=False).index[:100])\n",
    "\n",
    "    # index를 통해 가져온 product title + 그냥 해보는 df_grouped에 top100 결과 추가하기\n",
    "    result = product_data.iloc[product_idx, :]\n",
    "    df_grouped.loc[i, 'top100'] = str(list(result['title']))\n",
    "\n",
    "    # 10개에 이 유저가 마지막으로 본 아이템이 속해 있는가? 있으면 hit10에 +1\n",
    "    test = result[result['title'].str.contains(df_grouped.loc[i, 'last_product_title'])]\n",
    "    if len(test):\n",
    "        hit100 +=1\n",
    "\n",
    "print(\"hit@100 : \", hit100/len(df_grouped))"
   ]
  },
  {
   "cell_type": "markdown",
   "metadata": {},
   "source": [
    "## user_idx, item_idx pickle 만들기"
   ]
  },
  {
   "cell_type": "code",
   "execution_count": null,
   "metadata": {},
   "outputs": [],
   "source": [
    "user_idx = {i:df_grouped.loc[i,'hashed_ip'] for i in tqdm(range(len(df_grouped)))}\n",
    "item_idx = {i:product_data.loc[i,'id'] for i in tqdm(range(len(product_data)))}"
   ]
  },
  {
   "cell_type": "code",
   "execution_count": null,
   "metadata": {},
   "outputs": [],
   "source": [
    "# with open('user_idx.pickle','wb') as fw:\n",
    "#     pickle.dump(user_idx, fw)"
   ]
  },
  {
   "cell_type": "code",
   "execution_count": null,
   "metadata": {},
   "outputs": [],
   "source": [
    "# with open('item_idx.pickle','wb') as fw:\n",
    "#     pickle.dump(item_idx, fw)"
   ]
  }
 ],
 "metadata": {
  "kernelspec": {
   "display_name": ".venv",
   "language": "python",
   "name": "python3"
  },
  "language_info": {
   "codemirror_mode": {
    "name": "ipython",
    "version": 3
   },
   "file_extension": ".py",
   "mimetype": "text/x-python",
   "name": "python",
   "nbconvert_exporter": "python",
   "pygments_lexer": "ipython3",
   "version": "3.8.10"
  }
 },
 "nbformat": 4,
 "nbformat_minor": 2
}
