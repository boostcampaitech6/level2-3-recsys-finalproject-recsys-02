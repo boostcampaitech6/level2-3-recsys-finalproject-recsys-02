{
 "cells": [
  {
   "cell_type": "code",
   "execution_count": null,
   "metadata": {},
   "outputs": [],
   "source": [
    "import pandas as pd\n",
    "import numpy as np\n",
    "from tqdm import tqdm\n",
    "import pickle"
   ]
  },
  {
   "cell_type": "code",
   "execution_count": null,
   "metadata": {},
   "outputs": [],
   "source": [
    "df = pd.read_csv('../asset/inter_240113_title_none_piv.csv')\n",
    "df = df[df['local_time'] >= '2024-01-15 00:00:00+00:00']\n",
    "df"
   ]
  },
  {
   "cell_type": "code",
   "execution_count": null,
   "metadata": {},
   "outputs": [],
   "source": [
    "with open('../asset/product_info_with_title.pickle', 'rb') as fr:\n",
    "    product_data = pickle.load(fr)\n",
    "\n",
    "product_data"
   ]
  },
  {
   "cell_type": "markdown",
   "metadata": {},
   "source": [
    "## hashed_ip 별 title 묶기"
   ]
  },
  {
   "cell_type": "code",
   "execution_count": null,
   "metadata": {},
   "outputs": [],
   "source": [
    "data_drop_local_time = df.drop(columns='local_time', axis=0)\n",
    "grouped = data_drop_local_time.groupby('hashed_ip')"
   ]
  },
  {
   "cell_type": "code",
   "execution_count": null,
   "metadata": {},
   "outputs": [],
   "source": [
    "df_grouped = pd.DataFrame(columns=['hashed_ip', 'products', 'product_titles', 'last_product', 'last_product_title'])\n",
    "\n",
    "for i in tqdm(grouped):\n",
    "    if len(i[1]) > 1 :\n",
    "        product_id_list = []\n",
    "        product_title_list = []\n",
    "        \n",
    "        # 상품명 순서에 따라 유사도에 변화가 있어, 최근에 본 상품일수록 앞쪽에 등장하도록 하였습니다.\n",
    "        for j in i[1].index.sort_values(ascending=False)[1:]:\n",
    "            if i[1].loc[j, 'products'] in product_id_list:\n",
    "                pass\n",
    "            else:\n",
    "                product_id_list.append(i[1].loc[j, 'products'])\n",
    "                product_title_list.append(i[1].loc[j, 'title'])\n",
    "\n",
    "        df_grouped.loc[len(df_grouped)] = [i[0], product_id_list, product_title_list, list(set(i[1]['products'][-1:])), list(set(i[1]['title'][-1:]))]\n",
    "\n",
    "df_grouped\n",
    "        "
   ]
  },
  {
   "cell_type": "markdown",
   "metadata": {},
   "source": [
    "## fastText"
   ]
  },
  {
   "cell_type": "code",
   "execution_count": null,
   "metadata": {},
   "outputs": [],
   "source": [
    "from gensim.models.fasttext import FastText\n",
    "import logging\n",
    "\n",
    "logging.basicConfig(format='%(asctime)s : %(levelname)s : %(message)s', level=logging.INFO)"
   ]
  },
  {
   "cell_type": "code",
   "execution_count": null,
   "metadata": {},
   "outputs": [],
   "source": [
    "product_document = []\n",
    "for i in tqdm(range(len(product_data))):\n",
    "    product_document.append([product_data.loc[i, 'title']])"
   ]
  },
  {
   "cell_type": "code",
   "execution_count": null,
   "metadata": {},
   "outputs": [],
   "source": [
    "# parameter\n",
    "window = 5\n",
    "min_count = 1\n",
    "epochs = 50"
   ]
  },
  {
   "cell_type": "code",
   "execution_count": null,
   "metadata": {},
   "outputs": [],
   "source": [
    "# FastText_Skip-Gram with Negative Sampling\n",
    "model_sgns = FastText(product_document, vector_size =100, window=window, min_count=min_count, workers=10, hs=1, sg=1)\n",
    "model_sgns.train(product_document,total_examples=len(product_document),epochs=epochs)"
   ]
  },
  {
   "cell_type": "markdown",
   "metadata": {},
   "source": [
    "---\n",
    "---"
   ]
  },
  {
   "cell_type": "code",
   "execution_count": null,
   "metadata": {},
   "outputs": [],
   "source": [
    "def hit_at_k(model, topn):\n",
    "    hit = 0\n",
    "    for i in tqdm(range(len(df_grouped))):\n",
    "        # i 번째 유저와의 유사도 top10 item title\n",
    "        target = ' '.join(df_grouped.loc[i, 'product_titles'])\n",
    "        similar_product = [prod for prod, sim in model.wv.most_similar(positive=target, topn=topn)]\n",
    "        # 10개에 이 유저가 마지막으로 본 아이템이 속해 있는가? 있으면 hit10에 +1\n",
    "        test = set(similar_product) & set(df_grouped.loc[i, 'last_product_title'])\n",
    "        if len(test):\n",
    "            hit +=1\n",
    "\n",
    "    print(f\"hit@{topn} : \", hit/len(df_grouped))"
   ]
  },
  {
   "cell_type": "code",
   "execution_count": null,
   "metadata": {},
   "outputs": [],
   "source": [
    "hit_at_k(model_sgns, 100)"
   ]
  },
  {
   "cell_type": "markdown",
   "metadata": {},
   "source": [
    "---\n",
    "---"
   ]
  },
  {
   "cell_type": "code",
   "execution_count": null,
   "metadata": {},
   "outputs": [],
   "source": [
    "def testing(model, target):\n",
    "    print(target)\n",
    "    print('-'*20)\n",
    "    \n",
    "    for prod, sim in model.wv.most_similar(positive=target, topn=10):\n",
    "        print(prod, '|', sim)"
   ]
  },
  {
   "cell_type": "code",
   "execution_count": null,
   "metadata": {},
   "outputs": [],
   "source": [
    "# product title을 document로 => 키워드 알림용 => list 형태인 product title을 join하여 input으로\n",
    "testing(model_sgns, ' '.join(df_grouped.loc[555, 'product_titles']))"
   ]
  },
  {
   "cell_type": "code",
   "execution_count": null,
   "metadata": {},
   "outputs": [],
   "source": [
    "# product title을 document로(자기 자신 결과 안 나오도록) => 추천 배너용 => list 형태인 product title을 그대로 input으로\n",
    "testing(model_sgns, df_grouped.loc[0, 'product_titles'])"
   ]
  },
  {
   "cell_type": "code",
   "execution_count": null,
   "metadata": {},
   "outputs": [],
   "source": [
    "# product title을 document로\n",
    "testing(model_sgns, ['애플 아이패드'])"
   ]
  }
 ],
 "metadata": {
  "kernelspec": {
   "display_name": ".venv",
   "language": "python",
   "name": "python3"
  },
  "language_info": {
   "codemirror_mode": {
    "name": "ipython",
    "version": 3
   },
   "file_extension": ".py",
   "mimetype": "text/x-python",
   "name": "python",
   "nbconvert_exporter": "python",
   "pygments_lexer": "ipython3",
   "version": "3.8.10"
  }
 },
 "nbformat": 4,
 "nbformat_minor": 2
}
