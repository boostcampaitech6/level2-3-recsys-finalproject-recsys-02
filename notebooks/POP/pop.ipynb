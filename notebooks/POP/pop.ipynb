{
 "cells": [
  {
   "cell_type": "code",
   "execution_count": null,
   "metadata": {},
   "outputs": [],
   "source": [
    "import pandas as pd\n",
    "import numpy as np\n",
    "from tqdm import tqdm\n",
    "import pickle"
   ]
  },
  {
   "cell_type": "code",
   "execution_count": null,
   "metadata": {},
   "outputs": [],
   "source": [
    "df = pd.read_csv('/home/seungah/crwlnt/CB/inter_240113_title_none_piv.csv')\n",
    "df = df[df['local_time'] >= '2024-01-15 00:00:00+00:00']\n",
    "df"
   ]
  },
  {
   "cell_type": "code",
   "execution_count": null,
   "metadata": {},
   "outputs": [],
   "source": [
    "with open('/home/seungah/crwlnt/CB/product_info_with_title.pickle', 'rb') as fr:\n",
    "    product_data = pickle.load(fr)\n",
    "\n",
    "product_data"
   ]
  },
  {
   "cell_type": "markdown",
   "metadata": {},
   "source": [
    "## hashed_ip 별 조회 이력 묶기"
   ]
  },
  {
   "cell_type": "code",
   "execution_count": null,
   "metadata": {},
   "outputs": [],
   "source": [
    "data_drop_local_time = df.drop(columns='local_time', axis=0)\n",
    "grouped = data_drop_local_time.groupby('hashed_ip')"
   ]
  },
  {
   "cell_type": "code",
   "execution_count": null,
   "metadata": {},
   "outputs": [],
   "source": [
    "df_grouped = pd.DataFrame(columns=['hashed_ip', 'products', 'last_product']) # 'products' 열은 필요 없지만 이력이 있음을 보기 위해\n",
    "\n",
    "for i in tqdm(grouped):\n",
    "    if len(i[1]) > 1 :\n",
    "        df_grouped.loc[len(df_grouped)] = [i[0], str(set(i[1]['products'][:-1])), list(set(i[1]['products'][-1:]))]"
   ]
  },
  {
   "cell_type": "code",
   "execution_count": null,
   "metadata": {},
   "outputs": [],
   "source": [
    "df_grouped"
   ]
  },
  {
   "cell_type": "markdown",
   "metadata": {},
   "source": [
    "## popularity-based reccomendation"
   ]
  },
  {
   "cell_type": "code",
   "execution_count": null,
   "metadata": {},
   "outputs": [],
   "source": [
    "hit10 = 0\n",
    "pop10 = str(list(df['products'].value_counts()[:10].index))\n",
    "\n",
    "for i in tqdm(range(len(df_grouped))):\n",
    "    bool_test = df_grouped.loc[i, 'last_product'][0] in pop10\n",
    "    if bool_test:\n",
    "        hit10 += 1\n",
    "    \n",
    "print(\"hit@10 : \", hit10/len(df_grouped))"
   ]
  }
 ],
 "metadata": {
  "kernelspec": {
   "display_name": ".venv",
   "language": "python",
   "name": "python3"
  },
  "language_info": {
   "codemirror_mode": {
    "name": "ipython",
    "version": 3
   },
   "file_extension": ".py",
   "mimetype": "text/x-python",
   "name": "python",
   "nbconvert_exporter": "python",
   "pygments_lexer": "ipython3",
   "version": "3.8.10"
  }
 },
 "nbformat": 4,
 "nbformat_minor": 2
}
