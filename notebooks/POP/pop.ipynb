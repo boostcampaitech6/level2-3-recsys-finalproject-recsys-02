{
 "cells": [
  {
   "cell_type": "code",
   "execution_count": null,
   "metadata": {},
   "outputs": [],
   "source": [
    "import pandas as pd\n",
    "import numpy as np\n",
    "from tqdm import tqdm\n",
    "import pickle"
   ]
  },
  {
   "cell_type": "code",
   "execution_count": null,
   "metadata": {},
   "outputs": [],
   "source": [
    "df = pd.read_csv('/home/seungah/crwlnt/data_csv/interaction/interaction_240113_final.csv')\n",
    "#df = df[df['local_time'] >= '2024-02-12 00:00:00+00:00']\n",
    "df"
   ]
  },
  {
   "cell_type": "code",
   "execution_count": null,
   "metadata": {},
   "outputs": [],
   "source": [
    "with open('/home/seungah/product_info_df.pickle', 'rb') as fr:\n",
    "    product_info = pickle.load(fr)\n",
    "\n",
    "product_info"
   ]
  },
  {
   "cell_type": "markdown",
   "metadata": {},
   "source": [
    "## piv를 product_id로 변환하기"
   ]
  },
  {
   "cell_type": "code",
   "execution_count": null,
   "metadata": {},
   "outputs": [],
   "source": [
    "# piv:id dict 만들기\n",
    "piv_id_dict = { product_info.loc[i, 'piv']:product_info.loc[i, 'id'] for i in tqdm(range(len(product_info)))}"
   ]
  },
  {
   "cell_type": "code",
   "execution_count": null,
   "metadata": {},
   "outputs": [],
   "source": [
    "# piv 있는 행과 없는 행 구분하기(속도를 위해 구분)\n",
    "product_id_df = df[df['products'].str.contains('-') == False]\n",
    "piv_df = df[df['products'].str.contains('-')]\n",
    "\n",
    "# piv를 product_id로 바꾸기\n",
    "piv_df['products'] = piv_df['products'].map(piv_id_dict)\n",
    "\n",
    "# piv 있는 행과 없는 행 다시 concat하기\n",
    "data = pd.concat([product_id_df, piv_df], axis=0, ignore_index=False)\n",
    "data = data.sort_index()\n",
    "data"
   ]
  },
  {
   "cell_type": "markdown",
   "metadata": {},
   "source": [
    "## hashed_ip 별 조회 이력 묶기"
   ]
  },
  {
   "cell_type": "code",
   "execution_count": null,
   "metadata": {},
   "outputs": [],
   "source": [
    "data_drop_local_time = data.drop(columns='local_time', axis=0)\n",
    "grouped = data_drop_local_time.groupby('hashed_ip')"
   ]
  },
  {
   "cell_type": "code",
   "execution_count": null,
   "metadata": {},
   "outputs": [],
   "source": [
    "df_grouped = pd.DataFrame(columns=['hashed_ip', 'products', 'last_product']) # 'products' 열은 필요 없지만 이력이 있음을 보기 위해\n",
    "\n",
    "for i in tqdm(grouped):\n",
    "    if len(i[1]) > 1 :\n",
    "        df_grouped.loc[len(df_grouped)] = [i[0], str(set(i[1]['products'][:-1])), list(set(i[1]['products'][-1:]))]"
   ]
  },
  {
   "cell_type": "code",
   "execution_count": null,
   "metadata": {},
   "outputs": [],
   "source": [
    "df_grouped"
   ]
  },
  {
   "cell_type": "markdown",
   "metadata": {},
   "source": [
    "## popularity-based reccomendation"
   ]
  },
  {
   "cell_type": "code",
   "execution_count": null,
   "metadata": {},
   "outputs": [],
   "source": [
    "hit10 = 0\n",
    "pop10 = str(list(data['products'].value_counts()[:10].index))\n",
    "\n",
    "for i in tqdm(range(len(df_grouped))):\n",
    "    bool_test = df_grouped.loc[i, 'last_product'][0] in pop10\n",
    "    if bool_test:\n",
    "        hit10 += 1\n",
    "    \n",
    "print(\"hit@10 : \", hit10/len(df_grouped))"
   ]
  }
 ],
 "metadata": {
  "kernelspec": {
   "display_name": ".venv",
   "language": "python",
   "name": "python3"
  },
  "language_info": {
   "codemirror_mode": {
    "name": "ipython",
    "version": 3
   },
   "file_extension": ".py",
   "mimetype": "text/x-python",
   "name": "python",
   "nbconvert_exporter": "python",
   "pygments_lexer": "ipython3",
   "version": "3.8.10"
  }
 },
 "nbformat": 4,
 "nbformat_minor": 2
}
