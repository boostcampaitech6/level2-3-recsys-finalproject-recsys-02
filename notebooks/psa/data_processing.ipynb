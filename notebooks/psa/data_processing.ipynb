{
 "cells": [
  {
   "cell_type": "markdown",
   "metadata": {},
   "source": [
    "## (변성윤 마스터님) 구글 빅쿼리 명령어(쿼리) 참고자료: https://zzsza.github.io/bigquery/guide.html"
   ]
  },
  {
   "cell_type": "markdown",
   "metadata": {},
   "source": [
    "### 의존성 파일 설치"
   ]
  },
  {
   "cell_type": "code",
   "execution_count": null,
   "metadata": {},
   "outputs": [],
   "source": [
    "# !pip install google-cloud-bigquery\n",
    "# !pip install gspread oauth2client\n",
    "# !pip install db-dtypes\n",
    "# !pip install pandas-gbq"
   ]
  },
  {
   "cell_type": "code",
   "execution_count": null,
   "metadata": {},
   "outputs": [],
   "source": [
    "from google.oauth2 import service_account\n",
    "from google.cloud import bigquery\n",
    "\n",
    "import pandas as pd\n",
    "import numpy as np\n",
    "from tqdm import tqdm\n",
    "from datetime import datetime\n",
    "\n",
    "from crwlnt.notiAPI.product import NotiServerRequest\n",
    "\n",
    "import time\n",
    "import pickle\n",
    "import pandas_gbq"
   ]
  },
  {
   "cell_type": "markdown",
   "metadata": {},
   "source": [
    "## 구글 클라우드 연동 및 BigQuery에서 데이터 불러오기"
   ]
  },
  {
   "cell_type": "code",
   "execution_count": null,
   "metadata": {},
   "outputs": [],
   "source": [
    "SERVICE_ACCOUNT_FILE = \"./config/level3-416207-893f91c9529e.json\"  # 키 json 파일\n",
    "\n",
    "# Credentials 객체 생성\n",
    "credentials = service_account.Credentials.from_service_account_file(SERVICE_ACCOUNT_FILE)\n",
    "\n",
    "# 빅쿼리 클라이언트 객체 생성\n",
    "project_id = \"level3-416207\"\n",
    "client = bigquery.Client(credentials=credentials, project=project_id)\n",
    "\n",
    "# 쿼리 실행\n",
    "# 빅쿼리 디렉토리는 <프로젝트ID>.<데이터셋ID>.<테이블ID> 순으로 저장되어있음 ex) level3-416207.l3_30.l3_30\n",
    "QUERY = (\n",
    "    '''\n",
    "    SELECT hashed_ip, local_time, request_url_endpoint, uri_first\n",
    "    FROM `level3-416207.log_129.revised_log_129`\n",
    "    WHERE local_time >= TIMESTAMP '2024-01-13 00:00:00 UTC'\n",
    "    ''')\n",
    "\n",
    "\n",
    "# API request\n",
    "df = client.query(QUERY).to_dataframe()\n",
    "df"
   ]
  },
  {
   "cell_type": "markdown",
   "metadata": {},
   "source": [
    "## /products/"
   ]
  },
  {
   "cell_type": "code",
   "execution_count": null,
   "metadata": {},
   "outputs": [],
   "source": [
    "df_products = df[df['uri_first'] == 'products']\n",
    "df_products['products'] = df_products['request_url_endpoint'].map(lambda x: x[10:])\n",
    "df_products = df_products[df_products['products'].str.startswith('?path=')==False]\n",
    "df_products"
   ]
  },
  {
   "cell_type": "code",
   "execution_count": null,
   "metadata": {},
   "outputs": [],
   "source": [
    "df_new_products = df_products.loc[:,['hashed_ip', 'local_time', 'products']]\n",
    "df_new_products"
   ]
  },
  {
   "cell_type": "code",
   "execution_count": null,
   "metadata": {},
   "outputs": [],
   "source": [
    "df_new_products.info()"
   ]
  },
  {
   "cell_type": "markdown",
   "metadata": {},
   "source": [
    "## /spec/"
   ]
  },
  {
   "cell_type": "code",
   "execution_count": null,
   "metadata": {},
   "outputs": [],
   "source": [
    "df_spec = df[df['uri_first']=='spec']\n",
    "df_spec['products'] = df_spec['request_url_endpoint'].map(lambda x: x[6:])\n",
    "df_spec"
   ]
  },
  {
   "cell_type": "code",
   "execution_count": null,
   "metadata": {},
   "outputs": [],
   "source": [
    "df_new_spec = df_spec.loc[:, ['hashed_ip', 'local_time', 'products']]\n",
    "df_new_spec"
   ]
  },
  {
   "cell_type": "code",
   "execution_count": null,
   "metadata": {},
   "outputs": [],
   "source": [
    "df_new_spec.info()"
   ]
  },
  {
   "cell_type": "markdown",
   "metadata": {},
   "source": [
    "## /redirect/"
   ]
  },
  {
   "cell_type": "code",
   "execution_count": null,
   "metadata": {},
   "outputs": [],
   "source": [
    "df_redirect = df[df['uri_first']=='redirect']\n",
    "df_redirect['products'] = df_redirect['request_url_endpoint'].map(lambda x: x[10:])\n",
    "df_redirect = df_redirect[df_redirect['products'].str.startswith('?p=')]\n",
    "df_redirect['products'] = df_redirect['products'].map(lambda x: x.split('&')[0].split('=')[1] + '-' + x.split('&')[1].split('=')[1] + '-' +x.split('&')[2].split('=')[1])\n",
    "df_redirect"
   ]
  },
  {
   "cell_type": "code",
   "execution_count": null,
   "metadata": {},
   "outputs": [],
   "source": [
    "df_new_redirect = df_redirect.loc[:,['hashed_ip', 'local_time', 'products']]\n",
    "df_new_redirect"
   ]
  },
  {
   "cell_type": "code",
   "execution_count": null,
   "metadata": {},
   "outputs": [],
   "source": [
    "df_new_redirect.info()"
   ]
  },
  {
   "cell_type": "markdown",
   "metadata": {},
   "source": [
    "## /"
   ]
  },
  {
   "cell_type": "code",
   "execution_count": null,
   "metadata": {},
   "outputs": [],
   "source": [
    "df_re = df[df['uri_first'].str.startswith('?p=', na=False)]\n",
    "\n",
    "df_re['products'] = None\n",
    "for i in list(df_re.index):\n",
    "    try:\n",
    "        df_re.loc[i,'products'] = df_re.loc[i, 'uri_first'].split('&')[0].split('=')[1] + '-' + df_re.loc[i, 'uri_first'].split('&')[1].split('=')[1] + '-' + df_re.loc[i, 'uri_first'].split('&')[2].split('=')[1]\n",
    "    except:\n",
    "        pass\n",
    "\n",
    "df_re"
   ]
  },
  {
   "cell_type": "code",
   "execution_count": null,
   "metadata": {},
   "outputs": [],
   "source": [
    "df_new_re = df_re[df_re['products'].isna()==False].loc[:,['hashed_ip', 'local_time', 'products']]\n",
    "df_new_re"
   ]
  },
  {
   "cell_type": "code",
   "execution_count": null,
   "metadata": {},
   "outputs": [],
   "source": [
    "df_new_re.info()"
   ]
  },
  {
   "cell_type": "markdown",
   "metadata": {},
   "source": [
    "## Concat"
   ]
  },
  {
   "cell_type": "code",
   "execution_count": null,
   "metadata": {},
   "outputs": [],
   "source": [
    "product = pd.concat([df_new_products, df_new_re, df_new_redirect, df_new_spec], axis=0, ignore_index=True)\n",
    "product"
   ]
  },
  {
   "cell_type": "code",
   "execution_count": null,
   "metadata": {},
   "outputs": [],
   "source": [
    "product['products'] = product['products'].astype(str)\n",
    "\n",
    "for i in tqdm(list(product.index)):\n",
    "    if '/' in product.loc[i,'products']:\n",
    "        product.loc[i, 'products'] = product.loc[i, 'products'].split('/')[0]\n",
    "\n",
    "product = product[product['products']!='']\n",
    "product"
   ]
  },
  {
   "cell_type": "markdown",
   "metadata": {},
   "source": [
    "## product_id/piv 형태만 남기고 검색되는 product의 interaction만 남기기"
   ]
  },
  {
   "cell_type": "code",
   "execution_count": null,
   "metadata": {},
   "outputs": [],
   "source": [
    "product_id = product[product['products'].apply(lambda x: len(str(x)) == 64)]\n",
    "product_piv = product[product['products'].str.contains('-')]\n",
    "\n",
    "product_id_list = list(set(product_id['products'].values))\n",
    "product_piv_list = list(set(product_piv['products'].values))\n",
    "\n",
    "\n",
    "print(len(product_id_list))\n",
    "print(len(product_piv_list))\n",
    "print(len(product_id_list) + len(product_piv_list))"
   ]
  },
  {
   "cell_type": "code",
   "execution_count": null,
   "metadata": {},
   "outputs": [],
   "source": [
    "# 원하는 개수로 product_id/piv 리스트 자르기\n",
    "def chunk_array(array, chunk_size):\n",
    "    return [array[i:i+chunk_size] for i in range(0, len(array), chunk_size)]\n",
    "\n",
    "\n",
    "# 원하는 개수만큼 request 보내기\n",
    "def send_array_in_chunks(array, chunk_size, type):\n",
    "    chunks = chunk_array(array, chunk_size)\n",
    "    product_df = pd.DataFrame(columns=['id', 'piv', 'title'])\n",
    "    for chunk in chunks:\n",
    "        if type == 'ids':\n",
    "            res = NotiServerRequest.bulk_product_info(ids=chunk)\n",
    "        else:\n",
    "            res = NotiServerRequest.bulk_product_info(pivs=chunk)\n",
    "\n",
    "        result = res.json()['data']['products']\n",
    "        for j in range(len(result)):\n",
    "            try:\n",
    "                product_df.loc[len(product_df)] = [result[j]['id'], result[j]['piv'], result[j]['title']]\n",
    "            except:\n",
    "                pass\n",
    "\n",
    "        print(len(product_df))\n",
    "        time.sleep(11)\n",
    "    return product_df"
   ]
  },
  {
   "cell_type": "code",
   "execution_count": null,
   "metadata": {},
   "outputs": [],
   "source": [
    "# n개씩 묶어서 보내기, 남은 원소들 보내기\n",
    "chunk_size = 5000\n",
    "\n",
    "id_list_df = send_array_in_chunks(product_id_list, chunk_size, 'ids')\n",
    "piv_list_df = send_array_in_chunks(product_piv_list, chunk_size, 'pivs')"
   ]
  },
  {
   "cell_type": "code",
   "execution_count": null,
   "metadata": {},
   "outputs": [],
   "source": [
    "# product_id로 검색은 가능하지만 piv만 없고 title이 있는 경우는 남기기\n",
    "res = NotiServerRequest.bulk_product_info(ids=list(set(product_id_list) - set(id_list_df['id'].values)))\n",
    "result = res.json()['data']['products']\n",
    "for i in range(len(result)):\n",
    "    try:\n",
    "        id_list_df.loc[len(id_list_df)] = [result[i]['id'], None, result[i]['title']]\n",
    "    except:\n",
    "        pass"
   ]
  },
  {
   "cell_type": "code",
   "execution_count": null,
   "metadata": {},
   "outputs": [],
   "source": [
    "# 검색해도 안 나오는 product_id, piv 지우기\n",
    "# product_~~_list = 로그에 등장한 product_id/piv 중복 없이 전부 다 있는 list\n",
    "# ~~_list_df = api로 검색했을 때 검색이 된 상품을 모아놓은 df\n",
    "# set(product_id_list) - set(id_list_df['id'].values) => 차집합 이용해서 전체로그에는 있지만 검색이 안 된 product_id 찾기\n",
    "\n",
    "id_error_dict = {id_error:None for id_error in list(set(product_id_list) - set(id_list_df['id'].values))}\n",
    "piv_error_dict = {piv_error:None for piv_error in list(set(product_piv_list) - set(piv_list_df['piv'].values))}\n",
    "\n",
    "product_id['products'] = product_id['products'].map(lambda x: id_error_dict[x] if x in list(id_error_dict.keys()) else x)\n",
    "product_piv['products'] = product_piv['products'].map(lambda x: piv_error_dict[x] if x in list(piv_error_dict.keys()) else x)\n",
    "\n",
    "product_id = product_id[product_id['products'].notnull()]\n",
    "product_piv = product_piv[product_piv['products'].notnull()]"
   ]
  },
  {
   "cell_type": "markdown",
   "metadata": {},
   "source": [
    "## interaction 파일 저장하기"
   ]
  },
  {
   "cell_type": "code",
   "execution_count": null,
   "metadata": {},
   "outputs": [],
   "source": [
    "product = pd.concat([product_piv, product_id], axis=0, ignore_index=True)\n",
    "product = product.sort_values('local_time')\n",
    "print(product.shape)"
   ]
  },
  {
   "cell_type": "code",
   "execution_count": null,
   "metadata": {},
   "outputs": [],
   "source": [
    "product.to_csv('./crwlnt/data_csv/interaction/interaction_240113_final.csv', index=False)"
   ]
  },
  {
   "cell_type": "markdown",
   "metadata": {},
   "source": [
    "## 파생) product_info_df.pickle 파일 저장 및 불러오기\n",
    "- id, piv, title 포함"
   ]
  },
  {
   "cell_type": "code",
   "execution_count": null,
   "metadata": {},
   "outputs": [],
   "source": [
    "product_info_df = pd.concat([id_list_df, piv_list_df], axis=0, ignore_index=True)\n",
    "product_info_df"
   ]
  },
  {
   "cell_type": "code",
   "execution_count": null,
   "metadata": {},
   "outputs": [],
   "source": [
    "# with open('product_info_df.pickle','wb') as fw:\n",
    "#     pickle.dump(product_info_df, fw)"
   ]
  },
  {
   "cell_type": "code",
   "execution_count": null,
   "metadata": {},
   "outputs": [],
   "source": [
    "# with open('./product_info_df.pickle', 'rb') as fr:\n",
    "#     product_info_df = pickle.load(fr)"
   ]
  },
  {
   "cell_type": "markdown",
   "metadata": {},
   "source": [
    "## BigQuery에 업로드"
   ]
  },
  {
   "cell_type": "code",
   "execution_count": null,
   "metadata": {},
   "outputs": [],
   "source": [
    "import pandas_gbq\n",
    "\n",
    "# 업로드할 데이터 경로 설정/ 없는 경로로 설정해주면 새로 생성해줌\n",
    "upload_project_id = \"level3-416207\" \n",
    "upload_dataset_id = 'l3_30'\n",
    "upload_table_id = 'upload_test'\n",
    "\n",
    "# 업로드\n",
    "#pandas_gbq.to_gbq(df, destination_table=f'{upload_dataset_id}.{upload_table_id}', project_id=upload_project_id, if_exists='replace', credentials=credentials)\n",
    "\n",
    "# '''\n",
    "# if_exists 매개변수\n",
    "# 'fail': 기존 테이블이 이미 존재하는 경우에는 업로드를 실패시킵니다. 기본값은 'fail'입니다.\n",
    "# 'replace': 기존 테이블이 이미 존재하는 경우에는 해당 테이블을 덮어씁니다.\n",
    "# 'append': 기존 테이블이 이미 존재하는 경우에는 데이터를 테이블에 추가합니다.\n",
    "# ''' "
   ]
  }
 ],
 "metadata": {
  "kernelspec": {
   "display_name": "ml",
   "language": "python",
   "name": "python3"
  },
  "language_info": {
   "codemirror_mode": {
    "name": "ipython",
    "version": 3
   },
   "file_extension": ".py",
   "mimetype": "text/x-python",
   "name": "python",
   "nbconvert_exporter": "python",
   "pygments_lexer": "ipython3",
   "version": "3.8.10"
  }
 },
 "nbformat": 4,
 "nbformat_minor": 2
}
