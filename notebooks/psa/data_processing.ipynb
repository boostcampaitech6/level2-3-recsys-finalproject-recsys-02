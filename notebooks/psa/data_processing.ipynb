{
 "cells": [
  {
   "cell_type": "markdown",
   "metadata": {},
   "source": [
    "## (변성윤 마스터님) 구글 빅쿼리 명령어(쿼리) 참고자료: https://zzsza.github.io/bigquery/guide.html"
   ]
  },
  {
   "cell_type": "markdown",
   "metadata": {},
   "source": [
    "### 의존성 파일 설치"
   ]
  },
  {
   "cell_type": "code",
   "execution_count": null,
   "metadata": {},
   "outputs": [],
   "source": [
    "# !pip install google-cloud-bigquery\n",
    "# !pip install gspread oauth2client\n",
    "# !pip install db-dtypes\n",
    "# !pip install pandas-gbq"
   ]
  },
  {
   "cell_type": "markdown",
   "metadata": {},
   "source": [
    "## 구글 클라우드 연동 및 BigQuery에서 데이터 불러오기"
   ]
  },
  {
   "cell_type": "code",
   "execution_count": null,
   "metadata": {},
   "outputs": [],
   "source": [
    "from google.oauth2 import service_account\n",
    "from google.cloud import bigquery\n",
    "\n",
    "SERVICE_ACCOUNT_FILE = \"./config/level3-416207-893f91c9529e.json\"  # 키 json 파일\n",
    "\n",
    "# Credentials 객체 생성\n",
    "credentials = service_account.Credentials.from_service_account_file(SERVICE_ACCOUNT_FILE)\n",
    "\n",
    "# 빅쿼리 클라이언트 객체 생성\n",
    "project_id = \"level3-416207\"\n",
    "client = bigquery.Client(credentials=credentials, project=project_id)\n",
    "\n",
    "# 쿼리 실행\n",
    "# 빅쿼리 디렉토리는 <프로젝트ID>.<데이터셋ID>.<테이블ID> 순으로 저장되어있음 ex) level3-416207.l3_30.l3_30\n",
    "QUERY = (\n",
    "    '''\n",
    "    SELECT hashed_ip, local_time, request_url_endpoint, uri_first\n",
    "    FROM `level3-416207.log_129.revised_log_129`\n",
    "    WHERE local_time >= TIMESTAMP '2024-01-13 00:00:00 UTC'\n",
    "    ''')\n",
    "\n",
    "\n",
    "# API request\n",
    "df = client.query(QUERY).to_dataframe()\n",
    "df"
   ]
  },
  {
   "cell_type": "markdown",
   "metadata": {},
   "source": [
    "## /products/"
   ]
  },
  {
   "cell_type": "code",
   "execution_count": null,
   "metadata": {},
   "outputs": [],
   "source": [
    "import pandas as pd\n",
    "import numpy as np\n",
    "from tqdm import tqdm"
   ]
  },
  {
   "cell_type": "code",
   "execution_count": null,
   "metadata": {},
   "outputs": [],
   "source": [
    "df_products = df[df['uri_first'] == 'products']"
   ]
  },
  {
   "cell_type": "code",
   "execution_count": null,
   "metadata": {},
   "outputs": [],
   "source": [
    "df_products['products'] = df_products['request_url_endpoint'].map(lambda x: x[10:])\n",
    "df_products = df_products[df_products['products'].str.startswith('?path=')==False]"
   ]
  },
  {
   "cell_type": "code",
   "execution_count": null,
   "metadata": {},
   "outputs": [],
   "source": [
    "df_products"
   ]
  },
  {
   "cell_type": "code",
   "execution_count": null,
   "metadata": {},
   "outputs": [],
   "source": [
    "df_new_products = df_products.loc[:,['hashed_ip', 'local_time', 'products']]\n",
    "df_new_products"
   ]
  },
  {
   "cell_type": "code",
   "execution_count": null,
   "metadata": {},
   "outputs": [],
   "source": [
    "df_new_products.info()"
   ]
  },
  {
   "cell_type": "markdown",
   "metadata": {},
   "source": [
    "## /spec/"
   ]
  },
  {
   "cell_type": "code",
   "execution_count": null,
   "metadata": {},
   "outputs": [],
   "source": [
    "df_spec = df[df['uri_first']=='spec']"
   ]
  },
  {
   "cell_type": "code",
   "execution_count": null,
   "metadata": {},
   "outputs": [],
   "source": [
    "df_spec['products'] = df_spec['request_url_endpoint'].map(lambda x: x[6:])"
   ]
  },
  {
   "cell_type": "code",
   "execution_count": null,
   "metadata": {},
   "outputs": [],
   "source": [
    "df_new_spec = df_spec.loc[:, ['hashed_ip', 'local_time', 'products']]\n",
    "df_new_spec"
   ]
  },
  {
   "cell_type": "code",
   "execution_count": null,
   "metadata": {},
   "outputs": [],
   "source": [
    "df_new_spec.info()"
   ]
  },
  {
   "cell_type": "markdown",
   "metadata": {},
   "source": [
    "## /redirect/"
   ]
  },
  {
   "cell_type": "code",
   "execution_count": null,
   "metadata": {},
   "outputs": [],
   "source": [
    "df_redirect = df[df['uri_first']=='redirect']\n",
    "df_redirect"
   ]
  },
  {
   "cell_type": "code",
   "execution_count": null,
   "metadata": {},
   "outputs": [],
   "source": [
    "df_redirect['products'] = df_redirect['request_url_endpoint'].map(lambda x: x[10:])\n",
    "df_redirect = df_redirect[df_redirect['products'].str.startswith('?p=')]\n",
    "df_redirect['products'] = df_redirect['products'].map(lambda x: x.split('&')[0].split('=')[1] + '-' + x.split('&')[1].split('=')[1] + '-' +x.split('&')[2].split('=')[1])\n",
    "df_redirect"
   ]
  },
  {
   "cell_type": "code",
   "execution_count": null,
   "metadata": {},
   "outputs": [],
   "source": [
    "df_new_redirect = df_redirect.loc[:,['hashed_ip', 'local_time', 'products']]\n",
    "df_new_redirect"
   ]
  },
  {
   "cell_type": "code",
   "execution_count": null,
   "metadata": {},
   "outputs": [],
   "source": [
    "df_new_redirect.info()"
   ]
  },
  {
   "cell_type": "markdown",
   "metadata": {},
   "source": [
    "## /"
   ]
  },
  {
   "cell_type": "code",
   "execution_count": null,
   "metadata": {},
   "outputs": [],
   "source": [
    "df_re = df[df['uri_first'].str.startswith('?p=', na=False)]"
   ]
  },
  {
   "cell_type": "code",
   "execution_count": null,
   "metadata": {},
   "outputs": [],
   "source": [
    "df_re['products'] = None\n",
    "for i in list(df_re.index):\n",
    "    try:\n",
    "        df_re.loc[i,'products'] = df_re.loc[i, 'uri_first'].split('&')[0].split('=')[1] + '-' + df_re.loc[i, 'uri_first'].split('&')[1].split('=')[1] + '-' + df_re.loc[i, 'uri_first'].split('&')[2].split('=')[1]\n",
    "    except:\n",
    "        pass\n",
    "\n",
    "df_re"
   ]
  },
  {
   "cell_type": "code",
   "execution_count": null,
   "metadata": {},
   "outputs": [],
   "source": [
    "df_new_re = df_re[df_re['products'].isna()==False].loc[:,['hashed_ip', 'local_time', 'products']]\n",
    "df_new_re"
   ]
  },
  {
   "cell_type": "code",
   "execution_count": null,
   "metadata": {},
   "outputs": [],
   "source": [
    "df_new_re.info()"
   ]
  },
  {
   "cell_type": "markdown",
   "metadata": {},
   "source": [
    "## Concat"
   ]
  },
  {
   "cell_type": "code",
   "execution_count": null,
   "metadata": {},
   "outputs": [],
   "source": [
    "product = pd.concat([df_new_products, df_new_re, df_new_redirect, df_new_spec], axis=0, ignore_index=True)\n",
    "product"
   ]
  },
  {
   "cell_type": "code",
   "execution_count": null,
   "metadata": {},
   "outputs": [],
   "source": [
    "product['products'] = product['products'].astype(str)\n",
    "\n",
    "for i in tqdm(list(product.index)):\n",
    "    if '/' in product.loc[i,'products']:\n",
    "        product.loc[i, 'products'] = product.loc[i, 'products'].split('/')[0]\n",
    "\n",
    "product = product[product['products']!='']\n",
    "product"
   ]
  },
  {
   "cell_type": "markdown",
   "metadata": {},
   "source": [
    "## product_id, piv 형태만 남기기"
   ]
  },
  {
   "cell_type": "code",
   "execution_count": null,
   "metadata": {},
   "outputs": [],
   "source": [
    "product_piv = product[product['products'].apply(lambda x: len(str(x)) == 64)]\n",
    "product_pid = product[product['products'].str.contains('-')]\n",
    "\n",
    "product = pd.concat([product_piv, product_pid], axis=0, ignore_index=True)\n",
    "product = product.sort_values('local_time')\n",
    "product.shape"
   ]
  },
  {
   "cell_type": "code",
   "execution_count": null,
   "metadata": {},
   "outputs": [],
   "source": [
    "product.to_csv('./crwlnt/data_csv/interaction/interaction_240113.csv', index=False)"
   ]
  },
  {
   "cell_type": "markdown",
   "metadata": {},
   "source": [
    "## BigQuery에 업로드"
   ]
  },
  {
   "cell_type": "code",
   "execution_count": null,
   "metadata": {},
   "outputs": [],
   "source": [
    "import pandas_gbq\n",
    "\n",
    "# 업로드할 데이터 경로 설정/ 없는 경로로 설정해주면 새로 생성해줌\n",
    "upload_project_id = \"level3-416207\" \n",
    "upload_dataset_id = 'l3_30'\n",
    "upload_table_id = 'upload_test'\n",
    "\n",
    "# 업로드\n",
    "#pandas_gbq.to_gbq(df, destination_table=f'{upload_dataset_id}.{upload_table_id}', project_id=upload_project_id, if_exists='replace', credentials=credentials)\n",
    "\n",
    "# '''\n",
    "# if_exists 매개변수\n",
    "# 'fail': 기존 테이블이 이미 존재하는 경우에는 업로드를 실패시킵니다. 기본값은 'fail'입니다.\n",
    "# 'replace': 기존 테이블이 이미 존재하는 경우에는 해당 테이블을 덮어씁니다.\n",
    "# 'append': 기존 테이블이 이미 존재하는 경우에는 데이터를 테이블에 추가합니다.\n",
    "# ''' "
   ]
  }
 ],
 "metadata": {
  "kernelspec": {
   "display_name": "ml",
   "language": "python",
   "name": "python3"
  },
  "language_info": {
   "codemirror_mode": {
    "name": "ipython",
    "version": 3
   },
   "file_extension": ".py",
   "mimetype": "text/x-python",
   "name": "python",
   "nbconvert_exporter": "python",
   "pygments_lexer": "ipython3",
   "version": "3.8.10"
  }
 },
 "nbformat": 4,
 "nbformat_minor": 2
}
